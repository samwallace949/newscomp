{
 "cells": [
  {
   "cell_type": "code",
   "execution_count": 1,
   "metadata": {},
   "outputs": [],
   "source": [
    "import json"
   ]
  },
  {
   "cell_type": "code",
   "execution_count": 2,
   "metadata": {},
   "outputs": [],
   "source": [
    "data = None\n",
    "with open(\"./sampleData.json\", \"r\") as rfile:\n",
    "    data = json.load(rfile)"
   ]
  },
  {
   "cell_type": "code",
   "execution_count": 3,
   "metadata": {},
   "outputs": [
    {
     "data": {
      "text/plain": [
       "dict_keys(['query', 'urls', 'dateTo', 'dateFrom', 'queryData', 'topk', 'isTest', 'success'])"
      ]
     },
     "execution_count": 3,
     "metadata": {},
     "output_type": "execute_result"
    }
   ],
   "source": [
    "data.keys()"
   ]
  },
  {
   "cell_type": "code",
   "execution_count": 4,
   "metadata": {},
   "outputs": [],
   "source": [
    "import spacy"
   ]
  },
  {
   "cell_type": "code",
   "execution_count": 5,
   "metadata": {},
   "outputs": [],
   "source": [
    "from gensim import corpora"
   ]
  },
  {
   "cell_type": "code",
   "execution_count": 6,
   "metadata": {},
   "outputs": [],
   "source": [
    "nlp = spacy.load(\"en_core_web_md\")"
   ]
  },
  {
   "cell_type": "code",
   "execution_count": 7,
   "metadata": {},
   "outputs": [],
   "source": [
    "data = data['queryData']"
   ]
  },
  {
   "cell_type": "code",
   "execution_count": 8,
   "metadata": {},
   "outputs": [
    {
     "data": {
      "text/plain": [
       "dict_keys(['raw', 'filtered', 'metadata'])"
      ]
     },
     "execution_count": 8,
     "metadata": {},
     "output_type": "execute_result"
    }
   ],
   "source": [
    "data.keys()"
   ]
  },
  {
   "cell_type": "code",
   "execution_count": 9,
   "metadata": {},
   "outputs": [],
   "source": [
    "urls = list(data['raw'].keys())"
   ]
  },
  {
   "cell_type": "code",
   "execution_count": 24,
   "metadata": {},
   "outputs": [],
   "source": [
    "def is_not_sword_or_punc(word):\n",
    "    return word not in nlp.Defaults.stop_words and not re.match(r\"\\W+\", word) and len(word) > 1"
   ]
  },
  {
   "cell_type": "code",
   "execution_count": 25,
   "metadata": {},
   "outputs": [],
   "source": [
    "import re\n",
    "\n",
    "def get_lemmatized_tokens(data, nlp):\n",
    "    urls = list(data['raw'].keys())\n",
    "    \n",
    "    token_lists = []\n",
    "    \n",
    "    for url in urls:\n",
    "        \n",
    "        intermediate_list = []\n",
    "        \n",
    "        for paragraph in data['raw'][url]:\n",
    "            intermediate_list = intermediate_list + re.split(r\"\\W+\", paragraph)\n",
    "        \n",
    "        intermediate_string = \" \".join(intermediate_list)\n",
    "        \n",
    "        spacy_doc = nlp(intermediate_string)\n",
    "        \n",
    "        token_lists.append([token.lemma_ for token in spacy_doc if is_not_sword_or_punc(token.lemma_)])\n",
    "        \n",
    "    return token_lists\n",
    "    \n",
    "    \n",
    "        "
   ]
  },
  {
   "cell_type": "code",
   "execution_count": 26,
   "metadata": {},
   "outputs": [],
   "source": [
    "token_lists = get_lemmatized_tokens(data,nlp)"
   ]
  },
  {
   "cell_type": "code",
   "execution_count": 27,
   "metadata": {},
   "outputs": [
    {
     "data": {
      "text/plain": [
       "20"
      ]
     },
     "execution_count": 27,
     "metadata": {},
     "output_type": "execute_result"
    }
   ],
   "source": [
    "len(token_lists)"
   ]
  },
  {
   "cell_type": "code",
   "execution_count": 28,
   "metadata": {},
   "outputs": [],
   "source": [
    "from gensim.models import LdaModel\n",
    "\n",
    "vocab = corpora.Dictionary(token_lists)\n",
    "\n",
    "corpus = [vocab.doc2bow(doc) for doc in token_lists]\n",
    "\n",
    "model = LdaModel(corpus, num_topics = 4)"
   ]
  },
  {
   "cell_type": "code",
   "execution_count": 29,
   "metadata": {},
   "outputs": [],
   "source": [
    "topics = model.top_topics(corpus = corpus, dictionary = vocab)"
   ]
  },
  {
   "cell_type": "code",
   "execution_count": 30,
   "metadata": {},
   "outputs": [
    {
     "name": "stdout",
     "output_type": "stream",
     "text": [
      "\n",
      "\n",
      "TOPIC 1\n",
      "0.00892274 covid\n",
      "0.006846373 people\n",
      "0.0057428735 sabrina\n",
      "0.005556836 new\n",
      "0.0054823095 china\n",
      "0.0043376754 virus\n",
      "0.00432429 tavernise\n",
      "0.0041669314 amy\n",
      "0.0040354496 qin\n",
      "0.0038937747 like\n",
      "0.0037636587 long\n",
      "0.0037039728 pandemic\n",
      "0.0035963221 year\n",
      "0.0033968552 2022\n",
      "0.0033165014 vaccine\n",
      "0.0032803721 case\n",
      "0.003170891 think\n",
      "0.003117806 time\n",
      "0.0030668995 zero\n",
      "0.0030541862 day\n",
      "\n",
      "\n",
      "TOPIC 2\n",
      "0.008144169 covid\n",
      "0.006951075 vaccine\n",
      "0.0061557344 tavernise\n",
      "0.0053656534 china\n",
      "0.00505541 people\n",
      "0.00487408 qin\n",
      "0.0048184455 time\n",
      "0.004171755 amy\n",
      "0.004142185 site\n",
      "0.0041364045 new\n",
      "0.0040115616 sabrina\n",
      "0.0040069656 like\n",
      "0.0038761094 child\n",
      "0.00385332 government\n",
      "0.003575336 virus\n",
      "0.0034550661 policy\n",
      "0.0033168977 test\n",
      "0.0032680149 find\n",
      "0.0032244485 19\n",
      "0.0032035809 zero\n",
      "\n",
      "\n",
      "TOPIC 3\n",
      "0.018754967 covid\n",
      "0.0062659415 vaccine\n",
      "0.0058520725 china\n",
      "0.005053513 new\n",
      "0.0049455096 people\n",
      "0.004650744 19\n",
      "0.004556988 long\n",
      "0.0043863747 health\n",
      "0.0041361237 pandemic\n",
      "0.004103204 case\n",
      "0.0040363106 like\n",
      "0.0038686811 amy\n",
      "0.0035866143 tavernise\n",
      "0.0034834766 test\n",
      "0.0034768726 virus\n",
      "0.0033578826 home\n",
      "0.0032751455 qin\n",
      "0.0032062833 sabrina\n",
      "0.003201624 time\n",
      "0.0031576247 use\n",
      "\n",
      "\n",
      "TOPIC 4\n",
      "0.011150843 covid\n",
      "0.007958568 people\n",
      "0.0061624087 new\n",
      "0.0058030076 vaccine\n",
      "0.0057749045 time\n",
      "0.0056740865 19\n",
      "0.005220897 case\n",
      "0.004827816 pandemic\n",
      "0.004298376 amy\n",
      "0.0042539584 sabrina\n",
      "0.0042442977 china\n",
      "0.0039790673 coronavirus\n",
      "0.0039607915 virus\n",
      "0.0038767671 health\n",
      "0.0035498163 day\n",
      "0.003247957 use\n",
      "0.0031928383 long\n",
      "0.003140577 qin\n",
      "0.0030906035 omicron\n",
      "0.0030901344 like\n"
     ]
    }
   ],
   "source": [
    "for i,topic in enumerate(topics):\n",
    "    print(\"\\n\\nTOPIC {}\".format(i+1))\n",
    "    for term in topic[0]:\n",
    "        print(term[0], vocab[int(term[1])])"
   ]
  },
  {
   "cell_type": "code",
   "execution_count": 31,
   "metadata": {},
   "outputs": [
    {
     "data": {
      "text/plain": [
       "[(0, 0.99810725)]"
      ]
     },
     "execution_count": 31,
     "metadata": {},
     "output_type": "execute_result"
    }
   ],
   "source": [
    "model[corpus[13]]"
   ]
  },
  {
   "cell_type": "code",
   "execution_count": 34,
   "metadata": {},
   "outputs": [],
   "source": [
    "def lda_k_topics(token_lists, k = 4):\n",
    "    \n",
    "    vocab = corpora.Dictionary(token_lists)\n",
    "\n",
    "    corpus = [vocab.doc2bow(doc) for doc in token_lists]\n",
    "\n",
    "    model = LdaModel(corpus, num_topics = k)\n",
    "    \n",
    "    topics = model.top_topics(corpus = corpus, dictionary = vocab)\n",
    "    \n",
    "    topic_terms = []\n",
    "    \n",
    "    for i,topic in enumerate(topics):\n",
    "            \n",
    "        topic_terms.append(\", \".join([vocab[int(term[1])] for term in topic[0][:5]])) \n",
    "        \n",
    "        print(\"\\nTOPIC\\n {}\".format(i+1), topic_terms[-1])\n",
    "       \n",
    "    doc_topics = []\n",
    "    \n",
    "    for doc in corpus:\n",
    "        \n",
    "        best_topics = sorted(model[doc], key=lambda a:a[1], reverse=True)\n",
    "        \n",
    "        doc_topics.append(best_topics[0][0])\n",
    "    \n",
    "    for i,topic in enumerate(doc_topics):\n",
    "        print(\"Topics for Doc {}: \".format(i), topic)\n",
    "\n",
    "    return topic_terms, doc_topics"
   ]
  },
  {
   "cell_type": "code",
   "execution_count": 35,
   "metadata": {},
   "outputs": [
    {
     "name": "stdout",
     "output_type": "stream",
     "text": [
      "\n",
      "TOPIC\n",
      " 1 covid, vaccine, people, health, new\n",
      "\n",
      "TOPIC\n",
      " 2 covid, new, vaccine, people, long\n",
      "\n",
      "TOPIC\n",
      " 3 covid, people, china, sabrina, tavernise\n",
      "\n",
      "TOPIC\n",
      " 4 covid, china, vaccine, people, 19\n",
      "Topics for Doc 0:  3\n",
      "Topics for Doc 1:  1\n",
      "Topics for Doc 2:  3\n",
      "Topics for Doc 3:  0\n",
      "Topics for Doc 4:  1\n",
      "Topics for Doc 5:  2\n",
      "Topics for Doc 6:  2\n",
      "Topics for Doc 7:  2\n",
      "Topics for Doc 8:  2\n",
      "Topics for Doc 9:  1\n",
      "Topics for Doc 10:  2\n",
      "Topics for Doc 11:  2\n",
      "Topics for Doc 12:  1\n",
      "Topics for Doc 13:  2\n",
      "Topics for Doc 14:  1\n",
      "Topics for Doc 15:  2\n",
      "Topics for Doc 16:  2\n",
      "Topics for Doc 17:  2\n",
      "Topics for Doc 18:  2\n",
      "Topics for Doc 19:  2\n"
     ]
    }
   ],
   "source": [
    "_ = lda_k_topics(token_lists, k=4)"
   ]
  },
  {
   "cell_type": "code",
   "execution_count": 152,
   "metadata": {},
   "outputs": [
    {
     "data": {
      "text/plain": [
       "['skip to contentskip to site index',\n",
       " '',\n",
       " 'the coronavirus',\n",
       " 'pandemic',\n",
       " 'covid-19 updates',\n",
       " 'coronavirus map and cases',\n",
       " 'mask questions, answered',\n",
       " 'long covid’s toll',\n",
       " 'advertisement',\n",
       " '',\n",
       " 'continue reading the main story',\n",
       " '',\n",
       " 'the ethicist',\n",
       " '',\n",
       " 'can i reveal a colleague’s covid diagnosis?',\n",
       " 'the magazine’s ethicist columnist on whether to keep a coworker’s illness confidential, outing an unvaccinated colleague — and more.',\n",
       " '',\n",
       " '',\n",
       " '453',\n",
       " '',\n",
       " '',\n",
       " 'credit...illustration by tomi um',\n",
       " 'by kwame anthony appiah',\n",
       " 'jan. 25, 2022',\n",
       " 'i work in an office with cubicles six feet apart, but we are all up and about throughout the day. we are supposed to wear a mask every time we step outside our cubicles, but for short interactions that often does not happen. the c.d.c. says the risk is higher if people are within six feet of one another for a total of 15 minutes in a day. that is probably the case for all of us. my closest cubicle mate is unvaccinated and came down with covid. he did not tell anyone, but i found out, and i am furious that he exposed me and did not tell me. he is now out on quarantine, having told others it was a different illness.',\n",
       " '',\n",
       " 'therapists are expected to break the confidentiality glass and tell a target if his or her life is in danger. can i do the same? if he exposes us carelessly, our lives could be in danger. i could wear an n95 all day, i suppose, but what about the others? in any case, such measures are not foolproof. given his carelessness and refusal to be vaccinated, and the real possibility that he could be reinfected, is it ethical to share the fact that he has covid? name withheld',\n",
       " '',\n",
       " 'advertisement',\n",
       " '',\n",
       " 'continue reading the main story',\n",
       " 'subscribe to the times to read as many articles as you like.',\n",
       " 'nytimes.com/subscription',\n",
       " 'site information navigation',\n",
       " '©\\xa02022\\xa0the new york times company',\n",
       " 'nytcocontact usaccessibilitywork with usadvertiset brand studioyour ad choicesprivacy policyterms of serviceterms of salesite maphelpsubscriptions',\n",
       " 'you’ve reached your limit of free articles. already a subscriber? log in.',\n",
       " 'special offer:',\n",
       " '',\n",
       " 'get unlimited access for $1 a week.',\n",
       " '',\n",
       " '$4.25 $1/week',\n",
       " '',\n",
       " 'billed as $17 $4 every 4 weeks for one year',\n",
       " '',\n",
       " 'you can cancel anytime.',\n",
       " '',\n",
       " 'subscribe now',\n",
       " '',\n",
       " '',\n",
       " 'no commitment required. cancel anytime.',\n",
       " '',\n",
       " '\\xa0',\n",
       " '',\n",
       " 'limited time offer. this is an offer for a basic digital access subscription. your payment method will automatically be charged in advance every four weeks. you will be charged the introductory offer rate of $4 every four weeks for the introductory period of one year, and thereafter will be charged the standard rate of $17 every four weeks until you cancel. your subscription will continue until you cancel. you can cancel anytime. cancellations take effect at the end of your current billing period. the basic digital access subscription does not include e-reader editions (kindle, nook, etc.), nyt games (the crossword) or nyt cooking. mobile apps are not supported on all devices. these offers are not available for current subscribers. other restrictions and taxes may apply. offers and pricing are subject to change without notice.',\n",
       " '',\n",
       " '\\xa0',\n",
       " '',\n",
       " '© 2021 the new york times company helpfeedback',\n",
       " '']"
      ]
     },
     "execution_count": 152,
     "metadata": {},
     "output_type": "execute_result"
    }
   ],
   "source": [
    "data['raw'][urls[0]]"
   ]
  },
  {
   "cell_type": "code",
   "execution_count": null,
   "metadata": {},
   "outputs": [],
   "source": []
  }
 ],
 "metadata": {
  "kernelspec": {
   "display_name": "Python 3.6.9 64-bit",
   "language": "python",
   "name": "python36964bit7adf7a03df0a4ce795e6a0b9df5377a2"
  },
  "language_info": {
   "codemirror_mode": {
    "name": "ipython",
    "version": 3
   },
   "file_extension": ".py",
   "mimetype": "text/x-python",
   "name": "python",
   "nbconvert_exporter": "python",
   "pygments_lexer": "ipython3",
   "version": "3.6.9"
  }
 },
 "nbformat": 4,
 "nbformat_minor": 4
}
