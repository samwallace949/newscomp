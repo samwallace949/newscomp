{
 "cells": [
  {
   "cell_type": "code",
   "execution_count": 40,
   "metadata": {},
   "outputs": [],
   "source": [
    "import json"
   ]
  },
  {
   "cell_type": "code",
   "execution_count": 133,
   "metadata": {},
   "outputs": [],
   "source": [
    "data = None\n",
    "with open(\"./sampleData.json\", \"r\") as rfile:\n",
    "    data = json.load(rfile)"
   ]
  },
  {
   "cell_type": "code",
   "execution_count": 134,
   "metadata": {},
   "outputs": [
    {
     "data": {
      "text/plain": [
       "dict_keys(['query', 'urls', 'dateTo', 'dateFrom', 'queryData', 'topk', 'isTest', 'success'])"
      ]
     },
     "execution_count": 134,
     "metadata": {},
     "output_type": "execute_result"
    }
   ],
   "source": [
    "data.keys()"
   ]
  },
  {
   "cell_type": "code",
   "execution_count": 135,
   "metadata": {},
   "outputs": [],
   "source": [
    "import spacy"
   ]
  },
  {
   "cell_type": "code",
   "execution_count": 136,
   "metadata": {},
   "outputs": [],
   "source": [
    "from gensim import corpora"
   ]
  },
  {
   "cell_type": "code",
   "execution_count": 137,
   "metadata": {},
   "outputs": [],
   "source": [
    "nlp = spacy.load(\"en_core_web_md\")"
   ]
  },
  {
   "cell_type": "code",
   "execution_count": 138,
   "metadata": {},
   "outputs": [],
   "source": [
    "data = data['queryData']"
   ]
  },
  {
   "cell_type": "code",
   "execution_count": 139,
   "metadata": {},
   "outputs": [
    {
     "data": {
      "text/plain": [
       "dict_keys(['raw', 'filtered', 'metadata'])"
      ]
     },
     "execution_count": 139,
     "metadata": {},
     "output_type": "execute_result"
    }
   ],
   "source": [
    "data.keys()"
   ]
  },
  {
   "cell_type": "code",
   "execution_count": 140,
   "metadata": {},
   "outputs": [],
   "source": [
    "urls = list(data['raw'].keys())"
   ]
  },
  {
   "cell_type": "code",
   "execution_count": 141,
   "metadata": {},
   "outputs": [
    {
     "data": {
      "text/plain": [
       "['Um', 'Like', 'maybe', 'this', 'is', 'the', 'thing', '']"
      ]
     },
     "execution_count": 141,
     "metadata": {},
     "output_type": "execute_result"
    }
   ],
   "source": [
    "re.split(r\"\\W+\", \"Um.. Like, maybe; this is the, . thing!?\")"
   ]
  },
  {
   "cell_type": "code",
   "execution_count": 142,
   "metadata": {},
   "outputs": [],
   "source": [
    "def is_not_sword_or_punc(word):\n",
    "    return word not in nlp.Defaults.stop_words and not re.match(r\"\\W+\", word)"
   ]
  },
  {
   "cell_type": "code",
   "execution_count": 143,
   "metadata": {},
   "outputs": [],
   "source": [
    "import re\n",
    "\n",
    "def get_lemmatized_tokens(data, nlp):\n",
    "    urls = list(data['raw'].keys())\n",
    "    \n",
    "    token_lists = []\n",
    "    \n",
    "    for url in urls:\n",
    "        \n",
    "        intermediate_list = []\n",
    "        \n",
    "        for paragraph in data['raw'][url]:\n",
    "            intermediate_list = intermediate_list + re.split(r\"\\W+\", paragraph)\n",
    "        \n",
    "        intermediate_string = \" \".join(intermediate_list)\n",
    "        \n",
    "        spacy_doc = nlp(intermediate_string)\n",
    "        \n",
    "        token_lists.append([token.lemma_ for token in doc if is_not_sword_or_punc(token.lemma_)])\n",
    "        \n",
    "    return token_lists\n",
    "    \n",
    "    \n",
    "        "
   ]
  },
  {
   "cell_type": "code",
   "execution_count": 144,
   "metadata": {},
   "outputs": [],
   "source": [
    "token_lists = get_lemmatized_tokens(data,nlp)"
   ]
  },
  {
   "cell_type": "code",
   "execution_count": 145,
   "metadata": {},
   "outputs": [
    {
     "data": {
      "text/plain": [
       "20"
      ]
     },
     "execution_count": 145,
     "metadata": {},
     "output_type": "execute_result"
    }
   ],
   "source": [
    "len(token_lists)"
   ]
  },
  {
   "cell_type": "code",
   "execution_count": 146,
   "metadata": {},
   "outputs": [],
   "source": [
    "from gensim.models import LdaModel\n",
    "\n",
    "vocab = corpora.Dictionary(token_lists)\n",
    "\n",
    "corpus = [vocab.doc2bow(doc) for doc in token_lists]\n",
    "\n",
    "model = LdaModel(corpus, num_topics = 4)"
   ]
  },
  {
   "cell_type": "code",
   "execution_count": 147,
   "metadata": {},
   "outputs": [],
   "source": [
    "topics = model.top_topics(corpus = corpus, dictionary = vocab)"
   ]
  },
  {
   "cell_type": "code",
   "execution_count": 148,
   "metadata": {},
   "outputs": [
    {
     "name": "stdout",
     "output_type": "stream",
     "text": [
      "\n",
      "\n",
      "TOPIC 1\n",
      "0.018764766 video\n",
      "0.014307627 information\n",
      "0.014162848 tiktok\n",
      "0.0135637345 ukraine\n",
      "0.013013236 footage\n",
      "0.011814391 medium\n",
      "0.009866591 troop\n",
      "0.009815588 russia\n",
      "0.009811372 verify\n",
      "0.008852875 border\n",
      "0.008392182 military\n",
      "0.00816201 source\n",
      "0.0073539037 equipment\n",
      "0.007313317 use\n",
      "0.006850287 cir\n",
      "0.0067005935 intelligence\n",
      "0.006671981 open\n",
      "0.006235093 movement\n",
      "0.006233788 image\n",
      "0.0060196193 share\n",
      "\n",
      "\n",
      "TOPIC 2\n",
      "0.018707696 tiktok\n",
      "0.016741328 video\n",
      "0.015466012 ukraine\n",
      "0.015243668 troop\n",
      "0.014194938 russia\n",
      "0.013198704 footage\n",
      "0.011526392 military\n",
      "0.010172216 information\n",
      "0.008664482 medium\n",
      "0.008248537 equipment\n",
      "0.008190865 source\n",
      "0.008153485 cir\n",
      "0.007926456 verify\n",
      "0.0077534677 people\n",
      "0.0072396765 intelligence\n",
      "0.0071399426 border\n",
      "0.007055395 new\n",
      "0.006992666 open\n",
      "0.006362008 use\n",
      "0.006309191 russian\n",
      "\n",
      "\n",
      "TOPIC 3\n",
      "0.022781584 video\n",
      "0.017120766 tiktok\n",
      "0.016199168 russia\n",
      "0.01304753 troop\n",
      "0.0127743045 medium\n",
      "0.0122862635 footage\n",
      "0.012092251 ukraine\n",
      "0.012041274 source\n",
      "0.0095645515 information\n",
      "0.008352417 verify\n",
      "0.0082048895 people\n",
      "0.008127114 open\n",
      "0.007836419 military\n",
      "0.0076252893 border\n",
      "0.007031871 equipment\n",
      "0.0066958787 use\n",
      "0.0065650577 cir\n",
      "0.006560293 tank\n",
      "0.0063159857 movement\n",
      "0.0061552078 new\n",
      "\n",
      "\n",
      "TOPIC 4\n",
      "0.023314917 video\n",
      "0.01549979 tiktok\n",
      "0.015487511 troop\n",
      "0.014023665 information\n",
      "0.01310568 russia\n",
      "0.0124265235 footage\n",
      "0.011111146 military\n",
      "0.010178034 source\n",
      "0.010009684 medium\n",
      "0.009751326 ukraine\n",
      "0.009300263 open\n",
      "0.008106784 border\n",
      "0.007282823 use\n",
      "0.0068555293 share\n",
      "0.006627047 russian\n",
      "0.0064243902 image\n",
      "0.0063669807 tank\n",
      "0.0058798995 evidence\n",
      "0.005878298 movement\n",
      "0.0058690584 account\n"
     ]
    }
   ],
   "source": [
    "for i,topic in enumerate(topics):\n",
    "    print(\"\\n\\nTOPIC {}\".format(i+1))\n",
    "    for term in topic[0]:\n",
    "        print(term[0], vocab[int(term[1])])"
   ]
  },
  {
   "cell_type": "code",
   "execution_count": 149,
   "metadata": {},
   "outputs": [
    {
     "data": {
      "text/plain": [
       "[(0, 0.08179509), (1, 0.29903573), (2, 0.37420943), (3, 0.24495973)]"
      ]
     },
     "execution_count": 149,
     "metadata": {},
     "output_type": "execute_result"
    }
   ],
   "source": [
    "model[corpus[13]]"
   ]
  },
  {
   "cell_type": "code",
   "execution_count": 150,
   "metadata": {},
   "outputs": [],
   "source": [
    "def lda_k_topics(token_lists, k = 4):\n",
    "    \n",
    "    vocab = corpora.Dictionary(token_lists)\n",
    "\n",
    "    corpus = [vocab.doc2bow(doc) for doc in token_lists]\n",
    "\n",
    "    model = LdaModel(corpus, num_topics = k)\n",
    "    \n",
    "    topics = model.top_topics(corpus = corpus, dictionary = vocab)\n",
    "    \n",
    "    topic_terms = []\n",
    "    \n",
    "    for i,topic in enumerate(topics):\n",
    "            \n",
    "        topic_terms.append(\", \".join([vocab[int(term[1])] for term in topic[0]])) \n",
    "        \n",
    "        print(\"\\nTOPIC\\n {}\".format(i+1), topic_terms[-1])\n",
    "       \n",
    "    doc_topics = []\n",
    "    \n",
    "    for doc in corpus:\n",
    "        \n",
    "        best_topics = sorted(model[doc], key=lambda a:a[1], reverse=True)\n",
    "        \n",
    "        doc_topics.append(best_topics[0][0])\n",
    "    \n",
    "    for i,topic in enumerate(doc_topics):\n",
    "        print(\"Topics for Doc {}: \".format(i), topic)\n",
    "\n",
    "    return topic_terms, doc_topics"
   ]
  },
  {
   "cell_type": "code",
   "execution_count": 151,
   "metadata": {},
   "outputs": [
    {
     "name": "stdout",
     "output_type": "stream",
     "text": [
      "\n",
      "TOPIC\n",
      " 1 russia, tiktok, troop, video, ukraine, footage, medium, verify, source, information, use, equipment, share, evidence, strick, military, new, intelligence, people, cir\n",
      "\n",
      "TOPIC\n",
      " 2 video, tiktok, footage, ukraine, russia, medium, source, information, military, open, troop, border, people, verify, use, equipment, intelligence, cir, movement, russian\n",
      "\n",
      "TOPIC\n",
      " 3 video, footage, tiktok, troop, russia, ukraine, information, medium, military, source, verify, cir, border, equipment, open, new, use, image, movement, wire\n",
      "\n",
      "TOPIC\n",
      " 4 video, tiktok, troop, information, russia, ukraine, military, medium, source, footage, open, border, tank, people, verify, share, russian, equipment, use, cir\n",
      "Topics for Doc 0:  3\n",
      "Topics for Doc 1:  3\n",
      "Topics for Doc 2:  3\n",
      "Topics for Doc 3:  3\n",
      "Topics for Doc 4:  3\n",
      "Topics for Doc 5:  3\n",
      "Topics for Doc 6:  3\n",
      "Topics for Doc 7:  3\n",
      "Topics for Doc 8:  3\n",
      "Topics for Doc 9:  3\n",
      "Topics for Doc 10:  3\n",
      "Topics for Doc 11:  3\n",
      "Topics for Doc 12:  3\n",
      "Topics for Doc 13:  3\n",
      "Topics for Doc 14:  3\n",
      "Topics for Doc 15:  3\n",
      "Topics for Doc 16:  3\n",
      "Topics for Doc 17:  3\n",
      "Topics for Doc 18:  3\n",
      "Topics for Doc 19:  3\n"
     ]
    }
   ],
   "source": [
    "_ = lda_k_topics(token_lists, k=4)"
   ]
  },
  {
   "cell_type": "code",
   "execution_count": 152,
   "metadata": {},
   "outputs": [
    {
     "data": {
      "text/plain": [
       "['skip to contentskip to site index',\n",
       " '',\n",
       " 'the coronavirus',\n",
       " 'pandemic',\n",
       " 'covid-19 updates',\n",
       " 'coronavirus map and cases',\n",
       " 'mask questions, answered',\n",
       " 'long covid’s toll',\n",
       " 'advertisement',\n",
       " '',\n",
       " 'continue reading the main story',\n",
       " '',\n",
       " 'the ethicist',\n",
       " '',\n",
       " 'can i reveal a colleague’s covid diagnosis?',\n",
       " 'the magazine’s ethicist columnist on whether to keep a coworker’s illness confidential, outing an unvaccinated colleague — and more.',\n",
       " '',\n",
       " '',\n",
       " '453',\n",
       " '',\n",
       " '',\n",
       " 'credit...illustration by tomi um',\n",
       " 'by kwame anthony appiah',\n",
       " 'jan. 25, 2022',\n",
       " 'i work in an office with cubicles six feet apart, but we are all up and about throughout the day. we are supposed to wear a mask every time we step outside our cubicles, but for short interactions that often does not happen. the c.d.c. says the risk is higher if people are within six feet of one another for a total of 15 minutes in a day. that is probably the case for all of us. my closest cubicle mate is unvaccinated and came down with covid. he did not tell anyone, but i found out, and i am furious that he exposed me and did not tell me. he is now out on quarantine, having told others it was a different illness.',\n",
       " '',\n",
       " 'therapists are expected to break the confidentiality glass and tell a target if his or her life is in danger. can i do the same? if he exposes us carelessly, our lives could be in danger. i could wear an n95 all day, i suppose, but what about the others? in any case, such measures are not foolproof. given his carelessness and refusal to be vaccinated, and the real possibility that he could be reinfected, is it ethical to share the fact that he has covid? name withheld',\n",
       " '',\n",
       " 'advertisement',\n",
       " '',\n",
       " 'continue reading the main story',\n",
       " 'subscribe to the times to read as many articles as you like.',\n",
       " 'nytimes.com/subscription',\n",
       " 'site information navigation',\n",
       " '©\\xa02022\\xa0the new york times company',\n",
       " 'nytcocontact usaccessibilitywork with usadvertiset brand studioyour ad choicesprivacy policyterms of serviceterms of salesite maphelpsubscriptions',\n",
       " 'you’ve reached your limit of free articles. already a subscriber? log in.',\n",
       " 'special offer:',\n",
       " '',\n",
       " 'get unlimited access for $1 a week.',\n",
       " '',\n",
       " '$4.25 $1/week',\n",
       " '',\n",
       " 'billed as $17 $4 every 4 weeks for one year',\n",
       " '',\n",
       " 'you can cancel anytime.',\n",
       " '',\n",
       " 'subscribe now',\n",
       " '',\n",
       " '',\n",
       " 'no commitment required. cancel anytime.',\n",
       " '',\n",
       " '\\xa0',\n",
       " '',\n",
       " 'limited time offer. this is an offer for a basic digital access subscription. your payment method will automatically be charged in advance every four weeks. you will be charged the introductory offer rate of $4 every four weeks for the introductory period of one year, and thereafter will be charged the standard rate of $17 every four weeks until you cancel. your subscription will continue until you cancel. you can cancel anytime. cancellations take effect at the end of your current billing period. the basic digital access subscription does not include e-reader editions (kindle, nook, etc.), nyt games (the crossword) or nyt cooking. mobile apps are not supported on all devices. these offers are not available for current subscribers. other restrictions and taxes may apply. offers and pricing are subject to change without notice.',\n",
       " '',\n",
       " '\\xa0',\n",
       " '',\n",
       " '© 2021 the new york times company helpfeedback',\n",
       " '']"
      ]
     },
     "execution_count": 152,
     "metadata": {},
     "output_type": "execute_result"
    }
   ],
   "source": [
    "data['raw'][urls[0]]"
   ]
  },
  {
   "cell_type": "code",
   "execution_count": null,
   "metadata": {},
   "outputs": [],
   "source": []
  }
 ],
 "metadata": {
  "kernelspec": {
   "display_name": "Python 3.6.9 64-bit",
   "language": "python",
   "name": "python36964bit7adf7a03df0a4ce795e6a0b9df5377a2"
  },
  "language_info": {
   "codemirror_mode": {
    "name": "ipython",
    "version": 3
   },
   "file_extension": ".py",
   "mimetype": "text/x-python",
   "name": "python",
   "nbconvert_exporter": "python",
   "pygments_lexer": "ipython3",
   "version": "3.6.9"
  }
 },
 "nbformat": 4,
 "nbformat_minor": 4
}
