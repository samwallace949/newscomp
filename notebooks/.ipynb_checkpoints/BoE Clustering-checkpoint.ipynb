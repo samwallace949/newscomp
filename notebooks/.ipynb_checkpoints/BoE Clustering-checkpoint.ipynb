{
 "cells": [
  {
   "cell_type": "code",
   "execution_count": 1,
   "id": "09f81d88",
   "metadata": {},
   "outputs": [],
   "source": [
    "import spacy"
   ]
  },
  {
   "cell_type": "code",
   "execution_count": 2,
   "id": "476a27db",
   "metadata": {},
   "outputs": [],
   "source": [
    "nlp = spacy.load(\"en_core_web_lg\")"
   ]
  },
  {
   "cell_type": "code",
   "execution_count": 3,
   "id": "b6bad32c",
   "metadata": {},
   "outputs": [],
   "source": [
    "test = [nlp(\"i like trains\"), nlp(\"i don't like trains\")]"
   ]
  },
  {
   "cell_type": "code",
   "execution_count": 4,
   "id": "777ff5c4",
   "metadata": {},
   "outputs": [
    {
     "data": {
      "text/plain": [
       "300"
      ]
     },
     "execution_count": 4,
     "metadata": {},
     "output_type": "execute_result"
    }
   ],
   "source": [
    "import numpy as np\n",
    "\n",
    "len(test[0].vector)"
   ]
  },
  {
   "cell_type": "code",
   "execution_count": 5,
   "id": "dfc0943e",
   "metadata": {},
   "outputs": [
    {
     "data": {
      "text/plain": [
       "0.9298600073952216"
      ]
     },
     "execution_count": 5,
     "metadata": {},
     "output_type": "execute_result"
    }
   ],
   "source": [
    "test[0].similarity(test[1])"
   ]
  },
  {
   "cell_type": "code",
   "execution_count": 6,
   "id": "366c361b",
   "metadata": {},
   "outputs": [],
   "source": [
    "import json"
   ]
  },
  {
   "cell_type": "code",
   "execution_count": 7,
   "id": "e55d8452",
   "metadata": {},
   "outputs": [],
   "source": [
    "data = None\n",
    "with open(\"./sampleData.json\", \"r\") as rfile:\n",
    "    data = json.load(rfile)"
   ]
  },
  {
   "cell_type": "code",
   "execution_count": 8,
   "id": "6ea61428",
   "metadata": {},
   "outputs": [],
   "source": [
    "data = data['queryData']"
   ]
  },
  {
   "cell_type": "code",
   "execution_count": 9,
   "id": "18902648",
   "metadata": {},
   "outputs": [],
   "source": [
    "urls = list(data['raw'].keys())"
   ]
  },
  {
   "cell_type": "code",
   "execution_count": 10,
   "id": "705f4283",
   "metadata": {},
   "outputs": [],
   "source": [
    "def is_not_sword_or_punc(word):\n",
    "    return word not in nlp.Defaults.stop_words and not re.match(r\"\\W+\", word) and len(word) > 1"
   ]
  },
  {
   "cell_type": "code",
   "execution_count": 11,
   "id": "56b993ea",
   "metadata": {},
   "outputs": [
    {
     "name": "stdout",
     "output_type": "stream",
     "text": [
      "skip to contentskip to site index\n",
      "[ 4.91449982e-02  5.49159311e-02 -2.72127837e-01  2.00375006e-01\n",
      "  1.62769839e-01 -9.40499734e-03 -7.85215721e-02 -9.41631719e-02\n",
      "  1.17913328e-01  1.56442320e+00 -4.58685011e-01 -2.75060013e-02\n",
      "  2.76851654e-01  4.30816673e-02 -7.82676637e-02 -6.65487498e-02\n",
      " -6.85043260e-02  1.29095173e+00 -1.31581664e-01 -7.01799849e-03\n",
      "  1.87575161e-01  4.52098511e-02 -1.45493492e-01 -8.74150023e-02\n",
      "  4.16509993e-02  1.88931659e-01  8.25175494e-02 -1.38178214e-01\n",
      " -1.57278344e-01 -1.47482336e-01  1.89241007e-01  2.95691732e-02\n",
      "  1.43469334e-01  1.69713140e-01 -1.41133240e-03 -2.38521680e-01\n",
      "  1.06526688e-02  1.74808994e-01  5.94309978e-02 -5.15838445e-04\n",
      " -1.28254667e-01  4.88886647e-02 -2.11710036e-02 -2.15269998e-01\n",
      " -1.31259993e-01 -9.58622023e-02  1.37841657e-01  5.59243299e-02\n",
      "  8.32006708e-02  1.84156653e-02 -1.37857497e-01 -2.18295008e-02\n",
      "  1.17021658e-01 -6.06300682e-02  1.00305162e-01  8.12516641e-03\n",
      " -7.90696740e-02 -1.43836662e-01 -1.58050880e-01 -1.84530318e-01\n",
      "  7.64074996e-02  2.18550012e-01 -2.36581668e-01  1.50583342e-01\n",
      "  1.28072664e-01  1.55873336e-02 -1.59890994e-01 -7.41346702e-02\n",
      "  1.58912316e-01  1.58992007e-01  1.54717997e-01  2.62413353e-01\n",
      "  2.29728162e-01 -1.51253983e-01  3.85181665e-01  2.17148364e-02\n",
      "  2.63603386e-02 -4.29095030e-02  7.72833303e-02  1.77220013e-02\n",
      "  1.29548326e-01  8.81566331e-02 -2.44809508e-01  1.63681656e-02\n",
      "  1.46709993e-01 -5.63683324e-02  5.29783368e-02  6.37909994e-02\n",
      "  2.92009145e-01  7.76880011e-02 -1.93596661e-01  3.25176604e-02\n",
      "  2.62683514e-03 -1.23563327e-01 -1.16748333e-01  9.55531672e-02\n",
      "  1.50140002e-02 -1.22649968e-02  1.84410334e-01  2.57408321e-02\n",
      "  1.23690493e-01 -3.36576663e-02 -5.12161702e-02 -1.00863324e-02\n",
      "  2.32194811e-02 -5.72269976e-01  2.41232321e-01  2.97218338e-02\n",
      "  8.42150077e-02 -2.02093348e-02  7.81100020e-02 -1.32239982e-01\n",
      "  1.49926499e-01  1.44971654e-01  1.25208005e-01 -4.45866697e-02\n",
      " -3.14509943e-02 -9.21325088e-02 -1.91430524e-01 -1.07444830e-01\n",
      "  1.92276523e-01  7.04883337e-02 -1.27883151e-01 -3.50250006e-02\n",
      " -1.16568007e-01  1.48226693e-02 -6.95083439e-02 -1.36530504e-01\n",
      "  1.57343671e-01 -1.81155000e-02 -4.29466665e-02  1.06703334e-01\n",
      " -1.40284002e-01  1.24264993e-01  2.22236607e-02 -2.38338336e-01\n",
      " -1.84236690e-02 -1.47843314e-02 -3.54340002e-02 -2.70306636e-02\n",
      " -7.82598317e-01 -1.46055669e-01 -2.21699998e-01 -2.22244993e-01\n",
      "  4.06196602e-02 -1.21840015e-02  1.42301721e-02 -1.96265019e-02\n",
      "  3.04766614e-02  7.38549903e-02  6.54093325e-02  1.42720833e-01\n",
      " -2.47865021e-02 -9.43950042e-02 -1.12927787e-01 -8.61683264e-02\n",
      "  6.95131645e-02  6.99833035e-03  1.09428108e-01 -3.56996804e-02\n",
      "  1.56119987e-01 -2.12166701e-02 -1.07833343e-02 -9.32653726e-04\n",
      " -2.04344988e-01 -1.92883834e-01  4.16350029e-02  1.48762330e-01\n",
      " -4.30533327e-02 -6.32441714e-02  9.15333331e-02 -1.87385362e-02\n",
      "  9.11466479e-02 -6.14623316e-02 -2.90633291e-02  2.36574993e-01\n",
      "  2.97086686e-01  2.12378353e-02 -1.32366514e-03  6.45353273e-02\n",
      " -2.62501631e-02 -4.07418348e-02 -1.58174992e-01 -8.26803297e-02\n",
      "  1.14703335e-01 -1.85211692e-02 -3.99909951e-02 -2.02511147e-01\n",
      " -1.23157658e-01 -1.92134991e-01 -1.16071500e-01  5.79466904e-03\n",
      " -1.25882015e-01  7.71650001e-02  2.20716670e-01 -2.55883317e-02\n",
      " -4.64865007e-02 -1.40411677e-02  8.92620012e-02  9.74485949e-02\n",
      "  1.33965001e-01 -3.17369968e-01 -1.29697517e-01 -1.82171658e-01\n",
      "  9.84228328e-02  4.14323360e-02  5.97146638e-02 -1.17809333e-01\n",
      "  9.71000120e-02 -5.04732644e-03  1.13192827e-01 -2.55553305e-01\n",
      " -1.14558786e-01 -6.53016642e-02 -1.72481999e-01 -4.24023382e-02\n",
      " -5.39565049e-02  1.86348334e-01 -1.95018336e-01 -4.48416658e-02\n",
      "  1.37713328e-01  1.25078261e-02 -6.80277273e-02  1.01535670e-01\n",
      "  1.32480010e-01  5.69749959e-02 -1.58360004e-01 -1.28655002e-01\n",
      " -5.87196648e-02 -8.29100981e-03 -1.64790824e-01 -1.77911650e-02\n",
      "  7.04483315e-02  1.85216665e-01  7.33546615e-02 -2.92320028e-02\n",
      " -7.51283392e-02  5.24498336e-02  1.70643628e-03 -1.11307062e-01\n",
      "  1.85508505e-01 -1.05527841e-01  1.23590000e-01 -5.69126643e-02\n",
      "  5.91966659e-02 -2.94261664e-01 -1.19930662e-01  7.81866685e-02\n",
      " -1.70601666e-01  4.99201827e-02  4.21564467e-02 -1.28581494e-01\n",
      " -9.56900045e-02 -7.49383345e-02  2.73079991e-01  2.27459013e-01\n",
      "  9.90083218e-02 -1.36615038e-02  6.10318333e-02 -1.20064341e-01\n",
      "  7.14298263e-02 -2.35859957e-02  3.38623375e-02  6.47917390e-03\n",
      "  2.57225007e-01 -3.25269192e-01 -3.53016667e-02  2.44303346e-02\n",
      "  4.72413301e-01  6.84489682e-02  9.49084759e-03 -2.21050337e-01\n",
      "  2.36039683e-01  4.99323420e-02  3.52366758e-03 -1.95770010e-01\n",
      "  1.26778344e-02 -1.58049967e-02  2.60956641e-02  1.43502668e-01\n",
      "  1.15290336e-01  2.56649982e-02  1.14556342e-01  4.80567515e-02\n",
      " -5.94333410e-02 -1.91250667e-01 -9.49803367e-02 -8.14929977e-02\n",
      "  2.97580510e-01 -1.61016488e-03  3.21150012e-02  7.11416677e-02\n",
      "  4.33516689e-02 -2.44912673e-02  1.55399991e-02 -2.76096672e-01\n",
      " -1.47141337e-01 -1.67757824e-01  1.03783511e-01  1.59708828e-01]\n"
     ]
    }
   ],
   "source": [
    "test_paragraph = list(data['raw'].values())[0][0]\n",
    "\n",
    "print(test_paragraph)\n",
    "\n",
    "print(nlp(test_paragraph).vector)\n"
   ]
  },
  {
   "cell_type": "code",
   "execution_count": 34,
   "id": "dd4fbc98",
   "metadata": {},
   "outputs": [],
   "source": [
    "import re\n",
    "\n",
    "def get_doc_embeddings(data, nlp):\n",
    "    urls = list(data['raw'].keys())\n",
    "    \n",
    "    doc_embeddings = []\n",
    "    \n",
    "    paragraph_embeddings = np.zeros([1,300])\n",
    "    \n",
    "    for url in urls:\n",
    "        \n",
    "        intermediate_list = []\n",
    "        \n",
    "        for paragraph in data['raw'][url]:\n",
    "            \n",
    "            if len(paragraph) > 0:\n",
    "                paragraph_embeddings = np.concatenate((paragraph_embeddings, nlp(paragraph).vector[:,np.newaxis].T), axis=0)\n",
    "                intermediate_list = intermediate_list + re.split(r\"\\W+\", paragraph)\n",
    "            else:\n",
    "                paragraph_embeddings = np.concatenate((paragraph_embeddings, np.zeros([1,300])), axis=0)\n",
    "        \n",
    "        intermediate_string = \" \".join(intermediate_list)\n",
    "        \n",
    "        spacy_doc = nlp(intermediate_string)\n",
    "        \n",
    "        doc_embeddings.append(spacy_doc.vector)\n",
    "        \n",
    "    return doc_embeddings, paragraph_embeddings\n",
    "    \n",
    "\n",
    "    \n",
    "        "
   ]
  },
  {
   "cell_type": "code",
   "execution_count": 35,
   "id": "999d9850",
   "metadata": {},
   "outputs": [],
   "source": [
    "d_embeddings, p_embeddings = get_doc_embeddings(data, nlp)"
   ]
  },
  {
   "cell_type": "code",
   "execution_count": 36,
   "id": "3082ad8a",
   "metadata": {},
   "outputs": [
    {
     "data": {
      "text/plain": [
       "(3005, 300)"
      ]
     },
     "execution_count": 36,
     "metadata": {},
     "output_type": "execute_result"
    }
   ],
   "source": [
    "p_embeddings.shape"
   ]
  },
  {
   "cell_type": "code",
   "execution_count": 20,
   "id": "fe35383f",
   "metadata": {},
   "outputs": [],
   "source": [
    "from sklearn.cluster import KMeans"
   ]
  },
  {
   "cell_type": "code",
   "execution_count": 21,
   "id": "69bf12e0",
   "metadata": {},
   "outputs": [],
   "source": [
    "model = KMeans(n_clusters=2)"
   ]
  },
  {
   "cell_type": "code",
   "execution_count": 22,
   "id": "542009f6",
   "metadata": {},
   "outputs": [
    {
     "data": {
      "text/plain": [
       "KMeans(n_clusters=2)"
      ]
     },
     "execution_count": 22,
     "metadata": {},
     "output_type": "execute_result"
    }
   ],
   "source": [
    "model.fit(d_embeddings)"
   ]
  },
  {
   "cell_type": "code",
   "execution_count": 24,
   "id": "adda1ced",
   "metadata": {},
   "outputs": [],
   "source": [
    "centroids = model.cluster_centers_\n"
   ]
  },
  {
   "cell_type": "code",
   "execution_count": 26,
   "id": "305f8eb3",
   "metadata": {},
   "outputs": [
    {
     "data": {
      "text/plain": [
       "array([2.80427312, 2.88401822])"
      ]
     },
     "execution_count": 26,
     "metadata": {},
     "output_type": "execute_result"
    }
   ],
   "source": [
    "from numpy.linalg import norm\n",
    "\n",
    "centroid_norms = norm(centroids, axis = 1)\n",
    "centroid_norms"
   ]
  },
  {
   "cell_type": "code",
   "execution_count": 37,
   "id": "63ee234d",
   "metadata": {},
   "outputs": [],
   "source": [
    "p_norms = norm(p_embeddings, axis=1)"
   ]
  },
  {
   "cell_type": "code",
   "execution_count": 38,
   "id": "2ffbf437",
   "metadata": {},
   "outputs": [
    {
     "data": {
      "text/plain": [
       "(3005,)"
      ]
     },
     "execution_count": 38,
     "metadata": {},
     "output_type": "execute_result"
    }
   ],
   "source": [
    "p_norms.shape"
   ]
  },
  {
   "cell_type": "code",
   "execution_count": 46,
   "id": "13f626b5",
   "metadata": {},
   "outputs": [],
   "source": [
    "sims = []\n",
    "\n",
    "eps = np.array([0.0001] * p_norms.shape[0])\n",
    "\n",
    "for i,centroid in enumerate(centroids):\n",
    "    sims.append((p_embeddings @ centroid)/((p_norms*centroid_norms[i]) + eps))"
   ]
  },
  {
   "cell_type": "code",
   "execution_count": 47,
   "id": "20b50b65",
   "metadata": {},
   "outputs": [
    {
     "data": {
      "text/plain": [
       "[array([0.        , 0.75550909, 0.        , ..., 0.71066027, 0.75808893,\n",
       "        0.        ]),\n",
       " array([0.        , 0.77922406, 0.        , ..., 0.71156917, 0.78287576,\n",
       "        0.        ])]"
      ]
     },
     "execution_count": 47,
     "metadata": {},
     "output_type": "execute_result"
    }
   ],
   "source": [
    "sims"
   ]
  },
  {
   "cell_type": "code",
   "execution_count": 48,
   "id": "3299ef1b",
   "metadata": {},
   "outputs": [
    {
     "data": {
      "text/plain": [
       "(2, 3005)"
      ]
     },
     "execution_count": 48,
     "metadata": {},
     "output_type": "execute_result"
    }
   ],
   "source": [
    "np.shape(sims)"
   ]
  },
  {
   "cell_type": "code",
   "execution_count": 52,
   "id": "fdafb5e9",
   "metadata": {},
   "outputs": [],
   "source": [
    "exemplar_indices = [np.argmax(sim) - 1 for sim in sims]"
   ]
  },
  {
   "cell_type": "code",
   "execution_count": 53,
   "id": "bdf34084",
   "metadata": {},
   "outputs": [
    {
     "data": {
      "text/plain": [
       "[2204, 2431]"
      ]
     },
     "execution_count": 53,
     "metadata": {},
     "output_type": "execute_result"
    }
   ],
   "source": [
    "exemplar_indices"
   ]
  },
  {
   "cell_type": "code",
   "execution_count": 55,
   "id": "acb4e885",
   "metadata": {},
   "outputs": [
    {
     "name": "stdout",
     "output_type": "stream",
     "text": [
      "['pbs newshour even did a segment about the “human toll” that china’s approach to covid-19 has had, but it’s tough to see how u.s. media can continue to argue that the american response has been more humane. the guardian reported on a 92-year-old man in los angeles who went to the emergency room in need of a blood transfusion last week and waited for 48 hours, as just one example of how hospitals nationwide are at a breaking point.', 'in china and abroad, people have started to question the validity of the government’s zero-tolerance approach. “i understand many are still afraid of the virus and willing to bear the burden [of zero-covid], but i feel we’ve reached a certain point,” says fan, whose parents had to quarantine for two weeks at their own expense after meeting a friend who visited a grocery store linked to a single covid case. “it has a huge impact on us.” so why is the government insisting on pursuing a zero-tolerance strategy? the official line is that abandoning it would lead to a devastating outbreak that would overwhelm the health care system and disrupt social stability. and experts say this is valid—to a certain degree. but the situation is far from straightforward.']\n"
     ]
    }
   ],
   "source": [
    "paragraphs = []\n",
    "\n",
    "for url in data['raw']:\n",
    "    paragraphs = paragraphs + data['raw'][url]\n",
    "\n",
    "for exemplar in exemplar_indices:\n",
    "print(paragraphs[exemplar])"
   ]
  },
  {
   "cell_type": "code",
   "execution_count": null,
   "id": "a026e3fc",
   "metadata": {},
   "outputs": [],
   "source": []
  }
 ],
 "metadata": {
  "kernelspec": {
   "display_name": "Python 3",
   "language": "python",
   "name": "python3"
  },
  "language_info": {
   "codemirror_mode": {
    "name": "ipython",
    "version": 3
   },
   "file_extension": ".py",
   "mimetype": "text/x-python",
   "name": "python",
   "nbconvert_exporter": "python",
   "pygments_lexer": "ipython3",
   "version": "3.6.9"
  }
 },
 "nbformat": 4,
 "nbformat_minor": 5
}
