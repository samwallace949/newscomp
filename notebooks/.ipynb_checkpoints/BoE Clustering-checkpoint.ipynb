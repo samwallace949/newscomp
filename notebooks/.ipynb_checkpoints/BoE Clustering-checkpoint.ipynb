{
 "cells": [
  {
   "cell_type": "code",
   "execution_count": 1,
   "id": "09f81d88",
   "metadata": {},
   "outputs": [],
   "source": [
    "import spacy"
   ]
  },
  {
   "cell_type": "code",
   "execution_count": 2,
   "id": "476a27db",
   "metadata": {},
   "outputs": [],
   "source": [
    "nlp = spacy.load(\"en_core_web_lg\")"
   ]
  },
  {
   "cell_type": "code",
   "execution_count": 3,
   "id": "b6bad32c",
   "metadata": {},
   "outputs": [],
   "source": [
    "test = [nlp(\"i like trains\"), nlp(\"i don't like trains\")]"
   ]
  },
  {
   "cell_type": "code",
   "execution_count": 4,
   "id": "777ff5c4",
   "metadata": {},
   "outputs": [
    {
     "data": {
      "text/plain": [
       "300"
      ]
     },
     "execution_count": 4,
     "metadata": {},
     "output_type": "execute_result"
    }
   ],
   "source": [
    "import numpy as np\n",
    "\n",
    "len(test[0].vector)"
   ]
  },
  {
   "cell_type": "code",
   "execution_count": 5,
   "id": "dfc0943e",
   "metadata": {},
   "outputs": [
    {
     "data": {
      "text/plain": [
       "0.9298600073952216"
      ]
     },
     "execution_count": 5,
     "metadata": {},
     "output_type": "execute_result"
    }
   ],
   "source": [
    "test[0].similarity(test[1])"
   ]
  },
  {
   "cell_type": "code",
   "execution_count": 6,
   "id": "366c361b",
   "metadata": {},
   "outputs": [],
   "source": [
    "import json"
   ]
  },
  {
   "cell_type": "code",
   "execution_count": 41,
   "id": "e55d8452",
   "metadata": {},
   "outputs": [],
   "source": [
    "data = None\n",
    "with open(\"./features-mfc_text.json\", \"r\") as rfile:\n",
    "    data = json.load(rfile)"
   ]
  },
  {
   "cell_type": "code",
   "execution_count": 42,
   "id": "6ea61428",
   "metadata": {},
   "outputs": [],
   "source": [
    "data = data['queryData']"
   ]
  },
  {
   "cell_type": "code",
   "execution_count": 44,
   "id": "705f4283",
   "metadata": {},
   "outputs": [],
   "source": []
  },
  {
   "cell_type": "code",
   "execution_count": 46,
   "id": "56b993ea",
   "metadata": {},
   "outputs": [
    {
     "name": "stdout",
     "output_type": "stream",
     "text": [
      ">\n",
      "[ 6.2983e-02  2.3782e-01 -1.6229e-01 -9.9808e-02  7.9680e-01  1.6148e-01\n",
      "  2.7428e-01 -1.7174e-02  5.3938e-01  5.2981e-01 -5.1177e-01 -4.7987e-01\n",
      "  3.5326e-01 -2.7172e-01 -8.8922e-02 -2.5101e-01 -1.3392e-01  1.2531e+00\n",
      " -9.5383e-02 -1.6047e-01  1.1619e-01 -1.0296e-02 -2.2619e-01 -6.5673e-01\n",
      " -1.7455e-01 -6.1507e-01  4.4272e-01 -3.0587e-01  1.8314e-01  3.2081e-02\n",
      " -4.7337e-01  3.5571e-01  1.9935e-01  9.3620e-02  3.9080e-01 -1.3259e-01\n",
      " -5.0027e-01  3.3630e-01 -1.8837e-01  2.7080e-01  2.3933e-01  6.8090e-01\n",
      "  1.7654e-01  4.7903e-01 -5.6406e-01 -5.5961e-01  7.9853e-02  1.4055e-02\n",
      "  1.6635e-01  1.5758e-01 -1.2784e-01  2.6583e-01 -6.2025e-02 -3.5037e-02\n",
      " -1.4938e-01  9.3294e-04 -6.7079e-01 -5.4639e-01 -7.9506e-02 -1.9183e-01\n",
      " -5.1943e-01 -2.7233e-01  2.2175e-01 -3.5535e-01  6.1282e-01  8.5555e-02\n",
      " -1.5312e-01  3.7764e-01  2.7109e-01 -9.0895e-02  3.4908e-01  1.6253e-01\n",
      " -1.0036e-01  2.3266e-01  9.1574e-01  7.9775e-01 -4.1173e-01 -2.3230e-01\n",
      " -8.9770e-02 -2.8802e-01 -2.0416e-02  2.9105e-01 -8.0913e-01 -6.2008e-02\n",
      " -3.3248e-01 -7.4911e-02 -6.5501e-01 -1.5202e-01  2.4395e-01  4.5687e-01\n",
      " -5.4851e-01  6.7796e-01  3.9964e-01 -5.3808e-01 -5.8203e-02  1.5414e-01\n",
      " -2.6364e-01 -2.1545e-01  1.7295e-01  4.7848e-01 -4.6171e-02  1.2656e-01\n",
      "  2.2978e-01  4.1448e-01  1.0494e-01  2.4016e+00  1.9928e-01 -2.2413e-01\n",
      "  3.1823e-01  4.3542e-01 -1.8392e-01 -6.4560e-01  2.1036e-01 -5.0955e-01\n",
      "  1.1868e-01  2.1111e-02  3.0236e-01 -3.9216e-01 -3.8095e-01 -2.5191e-01\n",
      " -2.3259e-01 -5.3061e-01  3.8058e-01 -1.1997e-02  1.0254e-01 -1.1579e-01\n",
      " -3.0845e-01  1.2778e-01  4.7738e-01  1.2253e-01  2.3631e-02  4.3189e-01\n",
      " -3.4703e-01 -3.0447e-01  8.2883e-01  6.2712e-03 -1.3921e-01  3.1462e-01\n",
      " -5.6546e-01 -7.8139e-02  5.5256e-02  3.1850e-01  8.7126e-02 -9.3805e-02\n",
      " -3.8839e-01  3.7909e-01 -4.7758e-01 -2.0490e-01 -5.9445e-02  4.6124e-01\n",
      "  3.5234e-01  2.0084e-01 -1.4551e-01  2.7355e-01  1.4418e-01 -5.1857e-01\n",
      " -2.3343e-01  9.8899e-02  6.2051e-01  1.4965e-01  5.5973e-01  3.1034e-01\n",
      " -2.0633e-01 -1.6215e-01 -2.7911e-01 -6.1048e-01 -3.5831e-01 -5.9967e-01\n",
      " -4.1810e-01  2.3549e-01  3.8064e-04  6.5069e-01 -4.6877e-01  3.3763e-01\n",
      "  5.3878e-02  3.7110e-01  1.5461e-01  3.9485e-01  4.2882e-01  1.0266e-01\n",
      "  3.4306e-01 -1.9782e-01 -4.0739e-03  3.5497e-01 -5.6398e-01 -4.2321e-01\n",
      " -4.3153e-03  2.3916e-01 -4.4782e-01 -2.9393e-01  2.9314e-01  9.1691e-02\n",
      " -5.2191e-01  4.3488e-01  3.7016e-01 -2.5115e-01 -1.9864e-01 -3.2317e-01\n",
      "  3.8840e-01  4.9111e-01 -4.1464e-01 -1.3571e-01 -1.4298e-01  2.7660e-01\n",
      " -3.5032e-01 -3.0653e-01 -5.4769e-02 -2.0706e-01  4.6378e-04 -3.1633e-03\n",
      "  9.0470e-02 -7.1390e-01  4.5344e-01 -7.8561e-02  3.2474e-01 -7.4440e-01\n",
      " -4.8472e-02  1.1308e-02 -1.3068e+00 -5.8164e-01  3.6055e-01  7.8387e-01\n",
      " -1.6652e-01 -1.5341e-01  6.6212e-02  2.2780e-01  2.5360e-01 -1.0991e-01\n",
      "  3.7004e-01 -2.8028e-02 -3.5610e-01 -4.2433e-04  5.8041e-01 -3.5482e-01\n",
      "  9.2860e-02  2.4370e-01 -3.5354e-01  1.7792e-01 -7.7452e-01 -2.2218e-02\n",
      " -1.9694e-01  2.7929e-02  7.2023e-01 -7.8183e-01 -5.1935e-01  9.3575e-02\n",
      "  1.8988e-02 -5.5911e-01 -3.7718e-01 -1.9112e-01 -6.2838e-01 -9.1310e-03\n",
      " -2.3240e-01 -1.9366e-01 -1.9515e-02  9.6971e-01  4.3246e-01 -5.6218e-02\n",
      "  4.1794e-01  1.1944e-02  1.7478e-01 -3.9223e-02  7.6286e-01  3.8840e-01\n",
      "  6.1643e-01 -2.8975e-01 -4.7308e-01  2.7847e-01  6.5565e-01  7.1213e-02\n",
      " -1.0962e-01 -2.4403e-01  4.5842e-01 -5.5064e-01 -2.7161e-02 -1.4870e-01\n",
      "  4.4118e-01  4.3395e-01 -3.9650e-01  1.4803e-01  1.1134e-01  2.8239e-01\n",
      "  3.0327e-01  1.9846e-01  2.2784e-01 -3.0970e-01 -1.5669e-01 -5.7701e-01\n",
      "  5.6791e-01 -2.9641e-01  2.3140e-01  2.1675e-01 -6.3885e-01 -4.9087e-01\n",
      "  3.4753e-02 -2.0009e-01  1.9368e-01 -1.5374e-01 -1.6039e-01  2.2898e-01]\n"
     ]
    }
   ],
   "source": [
    "test_paragraph = list(data['raw'].values())[0][0]\n",
    "\n",
    "print(test_paragraph)\n",
    "\n",
    "print(nlp(test_paragraph).vector)\n"
   ]
  },
  {
   "cell_type": "code",
   "execution_count": 78,
   "id": "dd4fbc98",
   "metadata": {},
   "outputs": [],
   "source": [
    "import re\n",
    "\n",
    "def get_paragraph_embeddings(data, nlp, min_doc_len = 10):\n",
    "    \n",
    "    urls = list(data['raw'].keys())\n",
    "    \n",
    "    paragraph_embeddings = np.zeros([1,300])\n",
    "    \n",
    "    for url in urls:\n",
    "        \n",
    "        for paragraph in data['raw'][url]:\n",
    "            \n",
    "            if len(paragraph) > min_doc_len:\n",
    "                paragraph_embeddings = np.concatenate((paragraph_embeddings, nlp(paragraph).vector[:,np.newaxis].T), axis=0)\n",
    "            else:\n",
    "                paragraph_embeddings = np.concatenate((paragraph_embeddings, np.zeros([1,300])), axis=0)\n",
    "        \n",
    "    return paragraph_embeddings\n",
    "    \n",
    "\n",
    "    \n",
    "        "
   ]
  },
  {
   "cell_type": "code",
   "execution_count": 79,
   "id": "999d9850",
   "metadata": {},
   "outputs": [],
   "source": [
    "p_embeddings = get_paragraph_embeddings(data, nlp)"
   ]
  },
  {
   "cell_type": "code",
   "execution_count": 80,
   "id": "3082ad8a",
   "metadata": {},
   "outputs": [
    {
     "data": {
      "text/plain": [
       "(15516, 300)"
      ]
     },
     "execution_count": 80,
     "metadata": {},
     "output_type": "execute_result"
    }
   ],
   "source": [
    "p_embeddings.shape"
   ]
  },
  {
   "cell_type": "code",
   "execution_count": 81,
   "id": "fe35383f",
   "metadata": {},
   "outputs": [],
   "source": [
    "from sklearn.cluster import KMeans\n",
    "from sklearn.preprocessing import StandardScaler"
   ]
  },
  {
   "cell_type": "code",
   "execution_count": 82,
   "id": "69bf12e0",
   "metadata": {},
   "outputs": [],
   "source": [
    "model = KMeans(n_clusters=15)\n",
    "scaler = StandardScaler()\n",
    "norm_p_data = scaler.fit_transform(p_embeddings)"
   ]
  },
  {
   "cell_type": "code",
   "execution_count": 83,
   "id": "542009f6",
   "metadata": {},
   "outputs": [
    {
     "data": {
      "text/plain": [
       "KMeans(n_clusters=15)"
      ]
     },
     "execution_count": 83,
     "metadata": {},
     "output_type": "execute_result"
    }
   ],
   "source": [
    "model.fit(norm_p_data)"
   ]
  },
  {
   "cell_type": "code",
   "execution_count": 84,
   "id": "adda1ced",
   "metadata": {},
   "outputs": [],
   "source": [
    "centroids = model.cluster_centers_\n"
   ]
  },
  {
   "cell_type": "code",
   "execution_count": 85,
   "id": "305f8eb3",
   "metadata": {},
   "outputs": [
    {
     "data": {
      "text/plain": [
       "array([ 6.18495573, 13.14363871, 18.40538196, 10.05729846,  5.51826104,\n",
       "        5.14127209, 32.24653132, 11.88654789,  5.20187423, 28.24087105,\n",
       "        6.54443483,  7.70116528,  6.12374557,  7.10556138,  6.3273087 ])"
      ]
     },
     "execution_count": 85,
     "metadata": {},
     "output_type": "execute_result"
    }
   ],
   "source": [
    "from numpy.linalg import norm\n",
    "\n",
    "centroid_norms = norm(centroids, axis = 1)\n",
    "centroid_norms"
   ]
  },
  {
   "cell_type": "code",
   "execution_count": 86,
   "id": "767e41bc",
   "metadata": {},
   "outputs": [],
   "source": [
    "p_norms = norm(norm_p_data, axis=1)"
   ]
  },
  {
   "cell_type": "code",
   "execution_count": 87,
   "id": "028824c3",
   "metadata": {},
   "outputs": [
    {
     "data": {
      "text/plain": [
       "(15516,)"
      ]
     },
     "execution_count": 87,
     "metadata": {},
     "output_type": "execute_result"
    }
   ],
   "source": [
    "p_norms.shape"
   ]
  },
  {
   "cell_type": "code",
   "execution_count": 88,
   "id": "19fd44f7",
   "metadata": {},
   "outputs": [],
   "source": [
    "sims = []\n",
    "\n",
    "eps = np.array([0.0001] * p_norms.shape[0])\n",
    "\n",
    "for i,centroid in enumerate(centroids):\n",
    "    sims.append((p_embeddings @ centroid)/((p_norms*centroid_norms[i]) + eps))"
   ]
  },
  {
   "cell_type": "code",
   "execution_count": 89,
   "id": "d7d77625",
   "metadata": {},
   "outputs": [
    {
     "data": {
      "text/plain": [
       "[array([ 0.        ,  0.        , -0.00179369, ...,  0.03817856,\n",
       "         0.02194758,  0.00965754]),\n",
       " array([ 0.        ,  0.        , -0.03303529, ..., -0.20372383,\n",
       "        -0.17862017, -0.12250312]),\n",
       " array([ 0.        ,  0.        , -0.00696822, ..., -0.09262263,\n",
       "        -0.05196133, -0.05125579]),\n",
       " array([0.        , 0.        , 0.00851148, ..., 0.05084839, 0.04676363,\n",
       "        0.04811449]),\n",
       " array([0.        , 0.        , 0.00730242, ..., 0.0147309 , 0.01394976,\n",
       "        0.00902825]),\n",
       " array([0.        , 0.        , 0.01370431, ..., 0.04860636, 0.04178838,\n",
       "        0.04969927]),\n",
       " array([ 0.        ,  0.        , -0.00267586, ..., -0.06470029,\n",
       "        -0.03591674, -0.0393745 ]),\n",
       " array([ 0.        ,  0.        , -0.00392595, ...,  0.01284462,\n",
       "        -0.00282267, -0.00442097]),\n",
       " array([0.        , 0.        , 0.00198391, ..., 0.0645111 , 0.04223795,\n",
       "        0.02841419]),\n",
       " array([ 0.        ,  0.        ,  0.00478498, ...,  0.0014781 ,\n",
       "        -0.02290019, -0.02035925]),\n",
       " array([0.        , 0.        , 0.01308084, ..., 0.02922056, 0.02110781,\n",
       "        0.03485559]),\n",
       " array([ 0.        ,  0.        , -0.01046518, ..., -0.00981578,\n",
       "         0.01913663,  0.00721296]),\n",
       " array([0.        , 0.        , 0.01517054, ..., 0.04661823, 0.00205551,\n",
       "        0.00213234]),\n",
       " array([ 0.        ,  0.        , -0.01172002, ...,  0.00027797,\n",
       "        -0.00309219, -0.01940117]),\n",
       " array([ 0.        ,  0.        ,  0.00274699, ..., -0.04941905,\n",
       "        -0.00708562, -0.01555167])]"
      ]
     },
     "execution_count": 89,
     "metadata": {},
     "output_type": "execute_result"
    }
   ],
   "source": [
    "sims"
   ]
  },
  {
   "cell_type": "code",
   "execution_count": 90,
   "id": "dd083903",
   "metadata": {},
   "outputs": [
    {
     "data": {
      "text/plain": [
       "(15, 15516)"
      ]
     },
     "execution_count": 90,
     "metadata": {},
     "output_type": "execute_result"
    }
   ],
   "source": [
    "np.shape(sims)"
   ]
  },
  {
   "cell_type": "code",
   "execution_count": 91,
   "id": "ba90dbb4",
   "metadata": {},
   "outputs": [],
   "source": [
    "exemplar_indices = [np.argmax(sim) - 1 for sim in sims]"
   ]
  },
  {
   "cell_type": "code",
   "execution_count": 92,
   "id": "c59f73e2",
   "metadata": {},
   "outputs": [
    {
     "data": {
      "text/plain": [
       "[2103,\n",
       " 10890,\n",
       " 5230,\n",
       " 7413,\n",
       " 1579,\n",
       " 9814,\n",
       " 916,\n",
       " 2102,\n",
       " 13747,\n",
       " 300,\n",
       " 10104,\n",
       " 11620,\n",
       " 5660,\n",
       " 2845,\n",
       " 5230]"
      ]
     },
     "execution_count": 92,
     "metadata": {},
     "output_type": "execute_result"
    }
   ],
   "source": [
    "exemplar_indices"
   ]
  },
  {
   "cell_type": "code",
   "execution_count": 93,
   "id": "cca6d89b",
   "metadata": {},
   "outputs": [
    {
     "name": "stdout",
     "output_type": "stream",
     "text": [
      "The analysis concludes that, in contrast to the U.S. position  at the talks, U.S. energy use, and thus emissions of carbon  dioxide, could be substantially reduced - with almost no harm to  the economy - by raising standards for energy and fuel efficiency,  increasing spending on government and private energy research and  adopting a national trading scheme for carbon dioxide cuts that gives a financial incentive to companies to go beyond required  reductions.\n",
      "\n",
      "\n",
      "\n",
      "\n",
      "Dion Nickelson\n",
      "\n",
      "\n",
      "\n",
      "\n",
      "Andrew Ross, Denver\n",
      "\n",
      "\n",
      "\n",
      "\n",
      "The main difference now appears to be that more scientists - and others - are convinced that they know what's going to happen, and it's not good.\n",
      "\n",
      "\n",
      "\n",
      "\n",
      "The United States signed the protocol in 1997 under President Bill Clinton, but the Senate refused to ratify it.\n",
      "\n",
      "\n",
      "The event is his biggest effort so far to get Americans to recognize that global warming is one of the great challenges this country will face in the coming century, and that in his judgment, the time to begin dealing with it is now.\n",
      "\n",
      "\n",
      "\n",
      "\n",
      "WASHINGTON\n",
      "\n",
      "\n",
      "\n",
      "\n",
      "In the study, analysts for the Department of Energy say that  fairly simple, inexpensive changes in U.S. energy policies - some  of which have already been embraced by both presidential aspirants  - could go a long way toward cutting the country's emissions of  carbon dioxide, the dominant heat-trapping greenhouse gas.\n",
      "\n",
      "\n",
      "\n",
      "\n",
      "They are simply one solution - one positive, doable way for people to begin restoring the health of the environment with technology we know, materials we have at hand and investments that we can easily afford.  \n",
      "\n",
      "\n",
      "Global Warming\n",
      "\n",
      "\n",
      "\n",
      "\n",
      "\"But the entire German delegation disagrees,\" she said, \"because he will not go further.\"\n",
      "\n",
      "\n",
      "\n",
      "\n",
      "43 percent and revenue slumped 35 percent in the January-March quarter compared with the same three months the year before.\n",
      "\n",
      "\n",
      "\n",
      "\n",
      "The world's leading scientists have established that  our climate is changing, that the rate of change is increasing,  that human activities are a significant factor in climate change,  and that climate change is likely to have many negative impacts on  our environment and society,' Clinton said.\n",
      "\n",
      "\n",
      "\n",
      "\n",
      "IPCC has predicted that climate change will eventually lead to rising seas, droughts and heat waves in parts of the world, more intense rainfall in others, and the disappearance of glaciers and coral reefs.\n",
      "\n",
      "\n",
      "\n",
      "\n",
      "Andrew Ross, Denver\n",
      "\n",
      "\n",
      "\n",
      "\n"
     ]
    }
   ],
   "source": [
    "paragraphs = []\n",
    "\n",
    "for url in data['raw']:\n",
    "    paragraphs = paragraphs + data['raw'][url]\n",
    "\n",
    "for exemplar in exemplar_indices:\n",
    "    print(paragraphs[exemplar])\n",
    "    print(\"\\n\")"
   ]
  },
  {
   "cell_type": "code",
   "execution_count": null,
   "id": "5a530105",
   "metadata": {},
   "outputs": [],
   "source": []
  }
 ],
 "metadata": {
  "kernelspec": {
   "display_name": "Python 3",
   "language": "python",
   "name": "python3"
  },
  "language_info": {
   "codemirror_mode": {
    "name": "ipython",
    "version": 3
   },
   "file_extension": ".py",
   "mimetype": "text/x-python",
   "name": "python",
   "nbconvert_exporter": "python",
   "pygments_lexer": "ipython3",
   "version": "3.6.9"
  }
 },
 "nbformat": 4,
 "nbformat_minor": 5
}
