{
 "cells": [
  {
   "cell_type": "markdown",
   "id": "2155c9ed",
   "metadata": {},
   "source": [
    "Media Frames Corpus 4.0\n",
    "=======================\n",
    "\n",
    "This dataset represents version 4.0 of the Media Frames Corpus, released on March 5, 2021. It contains labeled and unlabeled articles on six issues from 14 newspapers covering the years 1990-2014, though some issues have broader coverage.\n",
    "\n",
    "## File structure\n",
    "\n",
    "Each of the six sub-directories contains files associated with one of the six issues.\n",
    "\n",
    "For each issue, there are two .json files. One contains the text for each article, along with basic metadata (newspaper source and date). The other file contains the annotations for a subset of articles, as well as the text of the article as it was annotated (which occasionally involves minor modification from the original text by the annotators).\n",
    "\n",
    "The text of each article was shortened to 225 words, rounded up to the end of the paragraph. The article ID and the word \"PRIMARY\" were also prepended to the beginning of the text.\n",
    "\n",
    "The codes.json file in this directory contains a mapping from numeric codes to tones and frames.\n",
    "\n",
    "## Annotations\n",
    "\n",
    "In most cases, annotated articles were annotated by at least two annotators. There are three categories of annotations: relevancy, framing, and tone. For each category, the json file contains the annotations from each annotator. Note that different annotators annotated different categories in some cases, and not all categories have been annotated for all articles. \n",
    "\n",
    "Relevancy (irrelevant) is simply a judgment (by each annotator) as to whether or not the article is relevant for the issue (as defined in the paper).\n",
    "\n",
    "Tone is a judgement as to whether the article is neutral, or is (implicitly or explicitly) pro or anti towards the default position on the issue. (For example, for immigration, \"pro\" suggests a pro-immigration position. Note that for gun control, these were annotated as pro or anti gun, so \"anti\" is actually pro gun control).\n",
    "\n",
    "The framing annotations identify spans of text that cue each of 15 framing dimensions, including special codes for the \"primary\" frame of the article, as well as for the headline, although these were not always used precisely as intended. In general the word \"PRIMARY\" at the start of the article is where annotators identify the primary frame. \n",
    "\n",
    "For framing, the start and end of each span is given as a 0-based index into the text.\n",
    "\n",
    "In addition to the detailed annotations, an attempt was made to resolve the consensus of the annotators for the (primary) tone, primary frame, headline frame, and whether or not the article is irrelevant, each of which occurs as an additional field for each article.\n",
    "\n",
    "## Sampling issues\n",
    "\n",
    "For most issues, the .json file with unlabeled articles contains all articles on the issue from the sources used, based on an external database, as described in the original paper. The annotated articles are approximately a random sample from the full set of articles (following de-duplications). There are a few exceptions to this however. \n",
    "\n",
    "First, the availability of some sources changed over time, thus there is a slight change in composition of sources for some issues.\n",
    "\n",
    "Second, gun control was later extended, such that articles from 2015-2018 are over-represented among the annotated articles.\n",
    "\n",
    "Third, the data collection for climate change unfortunately failed, and was not noticed until later, such that the unlabeled articles for that issue does not include the full set of articles that should have been collected. As such, it is less comprehensive than the other issues, and any patterns noticed over time should be treated with skepticism for this one issue.\n",
    "\n",
    "## A note on sources\n",
    "\n",
    "14 named newspapers are listed among the sources in this dataset. Most of these are self-explanatory (e.g., \"new york times\"), but a few require clarification: \"daily news\" is the New York Daily News. \"herald-sun\" includes articles from both the Durham Herald Sun and the Chapel Hill Herald, which are affiliated. Also, note that the St. Petersburg Times was renamed to the Tampa Bay Times in 2012. These two sources represent the same paper, but the individual names have been preserved in this dataset.\n",
    "\n",
    "## Citation\n",
    "\n",
    "To cite this dataset, please cite the following paper:\n",
    "\n",
    "```\n",
    "@inproceedings{card.2015,\n",
    "  title = {The Media Frames Corpus: Annotations of Frames Across Issues},\n",
    "  author = {Dallas Card and Amber E. Boydstun and  Justin H. Gross and  Philip Resnik and Noah A. Smith},\n",
    "  year = {2015},\n",
    "  booktitle={Proceedings of ACL},\n",
    "  url={https://www.aclweb.org/anthology/P15-2072/},\n",
    "} \n",
    "```\n",
    "\n"
   ]
  },
  {
   "cell_type": "code",
   "execution_count": 5,
   "id": "edcbe1ac",
   "metadata": {},
   "outputs": [],
   "source": [
    "base_url = \"../../mfc_v4.0/\"\n",
    "subdirs = [\"climate\", \"deathpenalty\", \"guncontrol\", \"immigration\", \"samesex\", \"tobacco\"]"
   ]
  },
  {
   "cell_type": "code",
   "execution_count": 6,
   "id": "6977bc33",
   "metadata": {},
   "outputs": [],
   "source": [
    "import json\n",
    "\n",
    "\n",
    "all_texts = []\n",
    "\n",
    "for ext in subdirs:\n",
    "    with open(base_url + ext + \"/\" + ext + \"_all_with_duplicates.json\", \"r\") as f: \n",
    "        all_texts.append(json.load(f))\n"
   ]
  },
  {
   "cell_type": "code",
   "execution_count": 7,
   "id": "807b62f2",
   "metadata": {},
   "outputs": [
    {
     "data": {
      "text/plain": [
       "173719"
      ]
     },
     "execution_count": 7,
     "metadata": {},
     "output_type": "execute_result"
    }
   ],
   "source": [
    "sum(len(topic.keys()) for topic in all_texts)"
   ]
  },
  {
   "cell_type": "code",
   "execution_count": 8,
   "id": "ecd5a0b1",
   "metadata": {},
   "outputs": [],
   "source": [
    "from sys import getsizeof"
   ]
  },
  {
   "cell_type": "code",
   "execution_count": 9,
   "id": "e7cd8c60",
   "metadata": {},
   "outputs": [
    {
     "data": {
      "text/plain": [
       "128"
      ]
     },
     "execution_count": 9,
     "metadata": {},
     "output_type": "execute_result"
    }
   ],
   "source": [
    "getsizeof(all_texts)"
   ]
  },
  {
   "cell_type": "code",
   "execution_count": 10,
   "id": "1d05a1b6",
   "metadata": {},
   "outputs": [],
   "source": [
    "all_annotations = []\n",
    "\n",
    "for ext in subdirs:\n",
    "    with open(base_url + ext + \"/\" + ext + \"_labeled.json\", \"r\") as f: \n",
    "        all_annotations.append(json.load(f))"
   ]
  },
  {
   "cell_type": "code",
   "execution_count": 12,
   "id": "afdef83e",
   "metadata": {},
   "outputs": [
    {
     "name": "stdout",
     "output_type": "stream",
     "text": [
      "('death_penalty_1', {'day': 30, 'fulldate': 19831230, 'month': 12, 'source': 'new york times', 'text': \"DEA-1\\n\\nPRIMARY\\n\\nIN THE NATION; EXCUSE IT, PLEASE\\n\\nOn Dec.  2, I began an article with the suggestion that in executing Robert Sullivan, ''the state of Florida may well have killed an innocent man.''\\n\\nMy intended point - from which I do not retreat - was that enough ''doubts and questions'' had been raised as to whether Mr. Sullivan actually was guilty of murder ''at least to have precluded a death penalty - particularly since, under Florida law, such a sentence can only be imposed by a separate tribunal deciding whether the facts of a crime warrant capital punishment.''\\n\\nThis article led many readers to the conclusion that I was, in fact, arguing that Mr. Sullivan was innocent. For example, I enumerated in some detail the ''doubts and questions'' about his guilt, but I wrote only that ''some other evidence, of course, tended to support the guilty verdict.'' Numerous readers familiar with the case have pointed out that when arrested Mr. Sullivan was in possession of the victim's watch and credit cards, and that soon thereafter he made a detailed confession of the murder.\\n\\nI knew all this, but also that he had repudiated the early confession, steadfastly maintained his innocence after that, and had even located alibi witnesses. I knew also that he had been poorly represented at his original trial, and that the state's principal witness against him had been his partner in a robbery of the murder victim; by turning state's evidence, the partner got off with a life sentence and today is free on parole - although he is equally culpable, under the law, for the murder that resulted from the robbery.\\n\\n\", 'year': 1983})\n",
      "('death_penalty_100', {'annotations': {'framing': {'sabrina_167.recode_r': [{'code': 13.2, 'end': 17, 'start': 9}, {'code': 13.1, 'end': 72, 'start': 18}, {'code': 13.0, 'end': 118, 'start': 73}, {'code': 5.0, 'end': 249, 'start': 119}, {'code': 13.0, 'end': 318, 'start': 251}, {'code': 7.0, 'end': 534, 'start': 318}, {'code': 5.0, 'end': 780, 'start': 535}], 'shayla_167.recode_r': [{'code': 13.2, 'end': 16, 'start': 9}, {'code': 13.1, 'end': 72, 'start': 18}, {'code': 13.0, 'end': 249, 'start': 73}, {'code': 6.0, 'end': 249, 'start': 182}, {'code': 13.0, 'end': 316, 'start': 251}, {'code': 9.0, 'end': 531, 'start': 466}, {'code': 6.0, 'end': 533, 'start': 318}, {'code': 13.0, 'end': 780, 'start': 535}, {'code': 6.0, 'end': 780, 'start': 695}]}, 'irrelevant': {'sabrina_167.recode_r': False, 'shayla_167.recode_r': False}, 'tone': {}}, 'headline_frame': 13.1, 'irrelevant': 0, 'primary_frame': 13.2, 'primary_tone': None, 'text': \"DEA-100\\n\\nPRIMARY\\n\\nJERSEY'S ASSEMBLY APPROVES DEATH-BY-INJECTION MEASURE\\n\\nAfter more than an hour of emotional debate, the New Jersey Assembly gave final legislative approval today to lethal injections as the method of carrying out the death penalty.\\n\\nThe bill now goes to Governor Kean, who has said he will sign it.  The measure provides for carrying out executions with an injection of ''a lethal quantity of an ultrashort-acting barbiturate in combination with a chemical paralytic agent in a quantity sufficient to cause death.''\\n\\nBy a vote of 46 to 12, the Assembly concurred in minor Senate amendments that would permit eight reporters rather than six to attend executions, and prescribed that those to be executed be sedated but conscious rather than totally anesthetized.\\n\\n'Righteous Way' of Execution\\n\\nAssemblyman Thomas H. Paterniti, Democrat of Metuchen and the prime sponsor of the lethal-injection measure, said the change in the wording on sedation was to provide a ''more humane way, a more righteous way'' of execution.\\n\\nIn other legislative action, the Senate gave initial approval to a $6.8 billion budget for the fiscal year beginning July 1 and approved a $47 million supplemental budget for the current year, with $23 million earmarked for increased pension payments and $19 million for Social Security payments for state workers.\\n\\nThe Senate also approved a bill authorizing a one-year use of private garages as state motor vehicle inspection stations. The measure is similar to one passed last week by the Assembly stipulating a six-month period. The bill now goes back to the Assembly.\\n\\n\\n\", 'year': 1983, 'month': 6, 'day': 24, 'source': 'new york times'})\n"
     ]
    }
   ],
   "source": [
    "print(list(all_texts[1].values())[0])\n",
    "print(list(all_annotations[1].items())[0])"
   ]
  },
  {
   "cell_type": "code",
   "execution_count": 14,
   "id": "2168599a",
   "metadata": {},
   "outputs": [
    {
     "name": "stdout",
     "output_type": "stream",
     "text": [
      "ERROR: Number of keys for climate does not match between text and annotations\n",
      "Number of texts:  18595\n",
      "Number of articels with annotations:  5155\n",
      "ERROR: Number of keys for deathpenalty does not match between text and annotations\n",
      "Number of texts:  34568\n",
      "Number of articels with annotations:  6398\n",
      "ERROR: Number of keys for guncontrol does not match between text and annotations\n",
      "Number of texts:  22355\n",
      "Number of articels with annotations:  10383\n",
      "ERROR: Number of keys for immigration does not match between text and annotations\n",
      "Number of texts:  54782\n",
      "Number of articels with annotations:  6757\n",
      "ERROR: Number of keys for samesex does not match between text and annotations\n",
      "Number of texts:  14200\n",
      "Number of articels with annotations:  10583\n",
      "ERROR: Number of keys for tobacco does not match between text and annotations\n",
      "Number of texts:  29219\n",
      "Number of articels with annotations:  5274\n"
     ]
    }
   ],
   "source": [
    "for i in range(len(subdirs)):\n",
    "    \n",
    "    n_texts = len(all_texts[i].keys())\n",
    "    n_annotations = len(all_annotations[i].keys())\n",
    "    \n",
    "    if n_texts != n_annotations:\n",
    "        print(\"ERROR: Number of keys for \"+subdirs[i] + \" does not match between text and annotations\")\n",
    "        print(\"Number of texts: \", n_texts)\n",
    "        print(\"Number of articels with annotations: \", n_annotations)\n",
    "    "
   ]
  },
  {
   "cell_type": "code",
   "execution_count": 23,
   "id": "719906d8",
   "metadata": {},
   "outputs": [],
   "source": [
    "#make single document dict with top-level topic being subfield\n",
    "\n",
    "article_dict = {}\n",
    "\n",
    "for i,ext in enumerate(subdirs):\n",
    "    \n",
    "    curr_text_dict = all_texts[i]\n",
    "    \n",
    "    for article in curr_text_dict:\n",
    "        article_dict[article] = curr_text_dict[article]\n",
    "        article_dict[article][\"topic\"] = ext\n",
    "        \n",
    "        article_dict[article][\"annotations\"] = []\n",
    "        \n",
    "        if article in all_annotations[i] and \"framing\" in all_annotations[i][article][\"annotations\"]:\n",
    "            for annotations_by_author in all_annotations[i][article][\"annotations\"][\"framing\"].values():\n",
    "                article_dict[article][\"annotations\"] = article_dict[article][\"annotations\"] + annotations_by_author\n",
    "            \n",
    "\n",
    "\n"
   ]
  },
  {
   "cell_type": "code",
   "execution_count": 24,
   "id": "3b86e0ff",
   "metadata": {},
   "outputs": [
    {
     "data": {
      "text/plain": [
       "173719"
      ]
     },
     "execution_count": 24,
     "metadata": {},
     "output_type": "execute_result"
    }
   ],
   "source": [
    "len(article_dict.keys())"
   ]
  },
  {
   "cell_type": "code",
   "execution_count": 25,
   "id": "e71c1585",
   "metadata": {},
   "outputs": [],
   "source": [
    "annotated_articles = dict([item for item in article_dict.items() if len(item[1][\"annotations\"]) > 0])\n",
    "unannotated_articles = dict([item for item in article_dict.items() if len(item[1][\"annotations\"]) == 0])"
   ]
  },
  {
   "cell_type": "code",
   "execution_count": 26,
   "id": "5abc3d0b",
   "metadata": {},
   "outputs": [
    {
     "data": {
      "text/plain": [
       "32014"
      ]
     },
     "execution_count": 26,
     "metadata": {},
     "output_type": "execute_result"
    }
   ],
   "source": [
    "len(annotated_articles)"
   ]
  },
  {
   "cell_type": "code",
   "execution_count": 27,
   "id": "2b7b25fa",
   "metadata": {},
   "outputs": [
    {
     "data": {
      "text/plain": [
       "141705"
      ]
     },
     "execution_count": 27,
     "metadata": {},
     "output_type": "execute_result"
    }
   ],
   "source": [
    "len(unannotated_articles)"
   ]
  },
  {
   "cell_type": "code",
   "execution_count": 28,
   "id": "e99b7f8b",
   "metadata": {},
   "outputs": [],
   "source": [
    "with open(base_url + \"annotated_articles.json\", \"w\") as f:\n",
    "    json.dump(annotated_articles, f)\n",
    "    \n",
    "with open(base_url + \"unannotated_articles.json\", \"w\") as f:\n",
    "    json.dump(unannotated_articles, f)"
   ]
  },
  {
   "cell_type": "code",
   "execution_count": 29,
   "id": "5b0f8592",
   "metadata": {},
   "outputs": [],
   "source": [
    "def add_article_spans(corpus, article, out):\n",
    "    \n",
    "    for annotation in corpus[article][\"annotations\"]:\n",
    "        if annotation['code'] not in out:\n",
    "            out[annotation['code']] = []\n",
    "        \n",
    "        out[annotation['code']].append(corpus[article][\"text\"][annotation['start']:annotation['end']])\n"
   ]
  },
  {
   "cell_type": "code",
   "execution_count": 30,
   "id": "f3ae48c8",
   "metadata": {},
   "outputs": [
    {
     "data": {
      "text/plain": [
       "{6.2: ['PRIMARY', '\\nPRIMARY'],\n",
       " 15.1: ['Too much hot air', 'Too much hot air'],\n",
       " 13.0: ['The White House moved boldly Monday to go it alone on braking climate change, leaving behind a gridlocked Congress.',\n",
       "  'The Obama administration is acting to regulate carbon dioxide - the main greenhouse gas driving up global temperatures - as the deadly pollutant it is',\n",
       "  'In 2010, Congress rejected a similar model, starting an unconscionable stalemate that left the President with no choice but to take solo action.',\n",
       "  'Obama',\n",
       "  'the President',\n",
       "  'Gov. Cuomo',\n",
       "  'The White House moved boldly Monday to go it alone on braking climate change, leaving behind a gridlocked Congress.\\n\\nThe Obama administration is acting to regulate carbon dioxide -',\n",
       "  ' In 2010, Congress rejected a similar model, starting an unconscionable stalemate that left the President with no choice but to take solo action.',\n",
       "  'Obama',\n",
       "  'as Gov. Cuomo stalls any action to permit extraction.'],\n",
       " 6.0: ['New EPA rules zero in on coal-fired power plants, setting national limits on carbon emissions from electricity generation and letting states decide how to meet their targets.',\n",
       "  'New York and other Northeastern states already have a successful,',\n",
       "  'Nationally, Obama aims to reduce power plant carbon emissions 30% by 2030',\n",
       "  'And there is more to be done in New York',\n",
       "  'as Gov. Cuomo stalls any action to permit extraction',\n",
       "  ' Meanwhile, he has vowed to close the Indian Point nuclear plant, a major source of electricity for New York City, without any credible plan to replace its power.',\n",
       "  'is acting to regulate carbon dioxide ',\n",
       "  'New EPA rules zero in on coal-fired power plants, setting national limits on carbon emissions from electricity generation and letting states decide how to meet their targets.\\n',\n",
       "  'Nationally, Obama aims to reduce power plant carbon emissions 30% by 2030.',\n",
       "  'And there is more to be done in New York. Low-carbon natural gas remains bottled up in the Marcellus Shale,',\n",
       "  ' without any credible plan to replace its power.\\n'],\n",
       " 1.0: ['New York and other Northeastern states already have a successful, so-called cap-and-trade system that, in effect, charges power plants for the carbon they generate',\n",
       "  'New York and other Northeastern states already have a successful, so-called cap-and-trade system that, in effect, charges power plants for the carbon they generate.',\n",
       "  'prod growing economies ',\n",
       "  'Meanwhile, he has vowed to close the Indian Point nuclear plant, a major source of electricity for New York City, without any credible plan to replace its power.'],\n",
       " 14.0: [' In so doing, the President also hopes to claim global leadership and prod growing economies like India and China into limiting their own emissions',\n",
       "  'In so doing, the President also hopes to claim global leadership and prod growing economies like India and China into limiting their own emissions.'],\n",
       " 12.0: ['The coal industry and its political allies have unleashed predictable howls of protest. Too bad',\n",
       "  'The coal industry and its political allies have unleashed predictable howls of protest.'],\n",
       " 2.0: ['For years, Midwestern coal-fired plants have sent putrid emissions drifting east into our air.',\n",
       "  'Low-carbon natural gas remains bottled up in the Marcellus Shale,',\n",
       "  ' the main greenhouse gas driving up global temperatures - as the deadly pollutant it is. ',\n",
       "  ' Too bad. For years, Midwestern coal-fired plants have sent putrid emissions drifting east into our air.']}"
      ]
     },
     "execution_count": 30,
     "metadata": {},
     "output_type": "execute_result"
    }
   ],
   "source": [
    "get_article_spans(annotated_articles, list(annotated_articles.keys())[0])"
   ]
  },
  {
   "cell_type": "code",
   "execution_count": null,
   "id": "c58d980e",
   "metadata": {},
   "outputs": [],
   "source": []
  }
 ],
 "metadata": {
  "kernelspec": {
   "display_name": "Python 3",
   "language": "python",
   "name": "python3"
  },
  "language_info": {
   "codemirror_mode": {
    "name": "ipython",
    "version": 3
   },
   "file_extension": ".py",
   "mimetype": "text/x-python",
   "name": "python",
   "nbconvert_exporter": "python",
   "pygments_lexer": "ipython3",
   "version": "3.6.9"
  }
 },
 "nbformat": 4,
 "nbformat_minor": 5
}
