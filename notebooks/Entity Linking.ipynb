{
 "cells": [
  {
   "cell_type": "code",
   "execution_count": 1,
   "id": "09485f6d",
   "metadata": {},
   "outputs": [],
   "source": [
    "import json"
   ]
  },
  {
   "cell_type": "code",
   "execution_count": 2,
   "id": "ffaf2fed",
   "metadata": {},
   "outputs": [],
   "source": [
    "data = None\n",
    "with open(\"./sampleData.json\", \"r\") as rfile:\n",
    "    data = json.load(rfile)"
   ]
  },
  {
   "cell_type": "code",
   "execution_count": 3,
   "id": "0f44e639",
   "metadata": {},
   "outputs": [
    {
     "data": {
      "text/plain": [
       "dict_keys(['query', 'urls', 'dateTo', 'dateFrom', 'queryData', 'topk', 'isTest', 'success'])"
      ]
     },
     "execution_count": 3,
     "metadata": {},
     "output_type": "execute_result"
    }
   ],
   "source": [
    "data.keys()"
   ]
  },
  {
   "cell_type": "code",
   "execution_count": 4,
   "id": "434e630d",
   "metadata": {},
   "outputs": [],
   "source": [
    "base_url = \"../rel/data\"\n"
   ]
  },
  {
   "cell_type": "code",
   "execution_count": 5,
   "id": "ab7ed353",
   "metadata": {},
   "outputs": [],
   "source": [
    "from REL.mention_detection import MentionDetection\n",
    "from REL.utils import process_results\n",
    "from REL.entity_disambiguation import EntityDisambiguation\n",
    "from REL.ner import Cmns, load_flair_ner\n",
    "\n",
    "wiki_version = \"wiki_2019\""
   ]
  },
  {
   "cell_type": "code",
   "execution_count": 6,
   "id": "5ded9c73",
   "metadata": {},
   "outputs": [],
   "source": [
    "def example_preprocessing():\n",
    "    # user does some stuff, which results in the format below.\n",
    "    text = \"Obama will visit Germany. And have a meeting with Merkel tomorrow.\"\n",
    "    processed = {\"test_doc1\": [text, []], \"test_doc2\": [text, []]}\n",
    "    return processed\n",
    "\n",
    "input_text = example_preprocessing()"
   ]
  },
  {
   "cell_type": "code",
   "execution_count": 7,
   "id": "9767aed9",
   "metadata": {},
   "outputs": [
    {
     "name": "stdout",
     "output_type": "stream",
     "text": [
      "2022-03-22 18:57:22,696 --------------------------------------------------------------------------------\n",
      "2022-03-22 18:57:22,699 The model key 'ner-fast' now maps to 'https://huggingface.co/flair/ner-english-fast' on the HuggingFace ModelHub\n",
      "2022-03-22 18:57:22,700  - The most current version of the model is automatically downloaded from there.\n",
      "2022-03-22 18:57:22,701  - (you can alternatively manually download the original model at https://nlp.informatik.hu-berlin.de/resources/models/ner-fast/en-ner-fast-conll03-v0.4.pt)\n",
      "2022-03-22 18:57:22,702 --------------------------------------------------------------------------------\n",
      "2022-03-22 18:57:22,713 loading file /home/sam/.flair/models/ner-english-fast/4c58e7191ff952c030b82db25b3694b58800b0e722ff15427f527e1631ed6142.e13c7c4664ffe2bbfa8f1f5375bd0dced866b8c1dd7ff89a6d705518abf0a611\n"
     ]
    }
   ],
   "source": [
    "mention_detection = MentionDetection(base_url, wiki_version)\n",
    "tagger_ner = load_flair_ner(\"ner-fast\")\n",
    "tagger_ngram = Cmns(base_url, wiki_version, n=5)\n",
    "mentions_dataset, n_mentions = mention_detection.find_mentions(input_text, tagger_ner)"
   ]
  },
  {
   "cell_type": "code",
   "execution_count": 8,
   "id": "80fae7b6",
   "metadata": {},
   "outputs": [
    {
     "name": "stdout",
     "output_type": "stream",
     "text": [
      "Loading model from given path: ../rel/data/ed-wiki-2019/lr_model.pkl\n"
     ]
    },
    {
     "name": "stderr",
     "output_type": "stream",
     "text": [
      "/home/sam/.local/lib/python3.6/site-packages/sklearn/base.py:315: UserWarning: Trying to unpickle estimator LogisticRegression from version 0.23.1 when using version 0.24.2. This might lead to breaking code or invalid results. Use at your own risk.\n",
      "  UserWarning)\n"
     ]
    }
   ],
   "source": [
    "config = {\n",
    "    \"mode\": \"eval\",\n",
    "    \"model_path\": base_url + \"/ed-wiki-2019/lr_model.pkl\",\n",
    "}\n",
    "\n",
    "model = EntityDisambiguation(base_url, wiki_version, config)\n",
    "predictions, timing = model.predict(mentions_dataset)"
   ]
  },
  {
   "cell_type": "code",
   "execution_count": 9,
   "id": "7854d5ce",
   "metadata": {},
   "outputs": [
    {
     "data": {
      "text/plain": [
       "{'test_doc1': [{'mention': 'Obama',\n",
       "   'prediction': 'Barack_Obama',\n",
       "   'candidates': ['Barack_Obama',\n",
       "    'Obama,_Fukui',\n",
       "    'Obama,_Nagasaki',\n",
       "    'Obama_Station',\n",
       "    'Michelle_Obama',\n",
       "    'Family_of_Barack_Obama',\n",
       "    '2008_United_States_presidential_election'],\n",
       "   'conf_ed': 0.9312528153257645,\n",
       "   'scores': ['0.4593951',\n",
       "    '0.40141734',\n",
       "    '0.39951593',\n",
       "    '0.3990866',\n",
       "    '0.41827792',\n",
       "    '0.37923092',\n",
       "    '0.34583545']},\n",
       "  {'mention': 'Germany',\n",
       "   'prediction': 'Germany',\n",
       "   'candidates': ['Germany',\n",
       "    'Germany_national_football_team',\n",
       "    'Nazi_Germany',\n",
       "    'German_Empire',\n",
       "    \"Germany_women's_national_football_team\",\n",
       "    'Weimar_Republic',\n",
       "    'Same-sex_marriage_in_Germany'],\n",
       "   'conf_ed': 0.5245728296743994,\n",
       "   'scores': ['0.43033266',\n",
       "    '0.3900633',\n",
       "    '0.38722372',\n",
       "    '0.38899815',\n",
       "    '0.38888156',\n",
       "    '0.38889247',\n",
       "    '0.38826776']},\n",
       "  {'mention': 'Merkel',\n",
       "   'prediction': 'Angela_Merkel',\n",
       "   'candidates': ['Angela_Merkel',\n",
       "    'Max_Merkel',\n",
       "    'Merkel,_Texas',\n",
       "    'Oliver_Merkel',\n",
       "    'Merkel_nerve_ending',\n",
       "    'Officer_Merkel',\n",
       "    'Una_Merkel'],\n",
       "   'conf_ed': 0.4919704442533669,\n",
       "   'scores': ['0.42882037',\n",
       "    '0.40534216',\n",
       "    '0.40453932',\n",
       "    '0.3960634',\n",
       "    '0.39491016',\n",
       "    '0.39451504',\n",
       "    '0.3941965']}],\n",
       " 'test_doc2': [{'mention': 'Obama',\n",
       "   'prediction': 'Barack_Obama',\n",
       "   'candidates': ['Barack_Obama',\n",
       "    'Obama,_Fukui',\n",
       "    'Obama,_Nagasaki',\n",
       "    'Obama_Station',\n",
       "    'Michelle_Obama',\n",
       "    'Family_of_Barack_Obama',\n",
       "    '2008_United_States_presidential_election'],\n",
       "   'conf_ed': 0.9312528153257645,\n",
       "   'scores': ['0.4593951',\n",
       "    '0.40141734',\n",
       "    '0.39951593',\n",
       "    '0.3990866',\n",
       "    '0.41827792',\n",
       "    '0.37923092',\n",
       "    '0.34583545']},\n",
       "  {'mention': 'Germany',\n",
       "   'prediction': 'Germany',\n",
       "   'candidates': ['Germany',\n",
       "    'Germany_national_football_team',\n",
       "    'Nazi_Germany',\n",
       "    'German_Empire',\n",
       "    \"Germany_women's_national_football_team\",\n",
       "    'Weimar_Republic',\n",
       "    'Same-sex_marriage_in_Germany'],\n",
       "   'conf_ed': 0.5245728296743994,\n",
       "   'scores': ['0.43033266',\n",
       "    '0.3900633',\n",
       "    '0.38722372',\n",
       "    '0.38899815',\n",
       "    '0.38888156',\n",
       "    '0.38889247',\n",
       "    '0.38826776']},\n",
       "  {'mention': 'Merkel',\n",
       "   'prediction': 'Angela_Merkel',\n",
       "   'candidates': ['Angela_Merkel',\n",
       "    'Max_Merkel',\n",
       "    'Merkel,_Texas',\n",
       "    'Oliver_Merkel',\n",
       "    'Merkel_nerve_ending',\n",
       "    'Officer_Merkel',\n",
       "    'Una_Merkel'],\n",
       "   'conf_ed': 0.4919704442533669,\n",
       "   'scores': ['0.42882037',\n",
       "    '0.40534216',\n",
       "    '0.40453932',\n",
       "    '0.3960634',\n",
       "    '0.39491016',\n",
       "    '0.39451504',\n",
       "    '0.3941965']}]}"
      ]
     },
     "execution_count": 9,
     "metadata": {},
     "output_type": "execute_result"
    }
   ],
   "source": [
    "predictions"
   ]
  },
  {
   "cell_type": "code",
   "execution_count": 11,
   "id": "1e45ba23",
   "metadata": {},
   "outputs": [
    {
     "ename": "KeyError",
     "evalue": "'prediction'",
     "output_type": "error",
     "traceback": [
      "\u001b[0;31m---------------------------------------------------------------------------\u001b[0m",
      "\u001b[0;31mKeyError\u001b[0m                                  Traceback (most recent call last)",
      "\u001b[0;32m<ipython-input-11-8a3bdd474318>\u001b[0m in \u001b[0;36m<module>\u001b[0;34m\u001b[0m\n\u001b[1;32m      2\u001b[0m     \u001b[0;32mfor\u001b[0m \u001b[0mmention\u001b[0m \u001b[0;32min\u001b[0m \u001b[0mmentions_dataset\u001b[0m\u001b[0;34m[\u001b[0m\u001b[0mdoc\u001b[0m\u001b[0;34m]\u001b[0m\u001b[0;34m:\u001b[0m\u001b[0;34m\u001b[0m\u001b[0;34m\u001b[0m\u001b[0m\n\u001b[1;32m      3\u001b[0m         \u001b[0;32mif\u001b[0m \u001b[0mmention\u001b[0m\u001b[0;34m[\u001b[0m\u001b[0;34m\"candidates\"\u001b[0m\u001b[0;34m]\u001b[0m\u001b[0;34m[\u001b[0m\u001b[0;36m0\u001b[0m\u001b[0;34m]\u001b[0m\u001b[0;34m[\u001b[0m\u001b[0;36m1\u001b[0m\u001b[0;34m]\u001b[0m \u001b[0;34m>\u001b[0m \u001b[0;36m0.5\u001b[0m\u001b[0;34m:\u001b[0m\u001b[0;34m\u001b[0m\u001b[0;34m\u001b[0m\u001b[0m\n\u001b[0;32m----> 4\u001b[0;31m             \u001b[0mprint\u001b[0m\u001b[0;34m(\u001b[0m\u001b[0mmention\u001b[0m\u001b[0;34m[\u001b[0m\u001b[0;34m\"mention\"\u001b[0m\u001b[0;34m]\u001b[0m\u001b[0;34m,\u001b[0m \u001b[0mmention\u001b[0m\u001b[0;34m[\u001b[0m\u001b[0;34m'prediction'\u001b[0m\u001b[0;34m]\u001b[0m\u001b[0;34m)\u001b[0m\u001b[0;34m\u001b[0m\u001b[0;34m\u001b[0m\u001b[0m\n\u001b[0m",
      "\u001b[0;31mKeyError\u001b[0m: 'prediction'"
     ]
    }
   ],
   "source": [
    "for doc in mentions_dataset:\n",
    "    for mention in mentions_dataset[doc]:\n",
    "        if mention[\"candidates\"][0][1] > 0.5:\n",
    "            print(mention[\"mention\"], mention['prediction'])"
   ]
  },
  {
   "cell_type": "code",
   "execution_count": 12,
   "id": "380bb6f4",
   "metadata": {},
   "outputs": [],
   "source": [
    "\n",
    "def compute(state):\n",
    "    urls = list(state['raw'].keys())\n",
    "    \n",
    "    entity_index = dict({})\n",
    "    \n",
    "    ner_input = dict([(url, [' '.join(state['raw'][url]),[]]) for url in urls])\n",
    "    \n",
    "    ner_output, n_outputs = mention_detection.find_mentions(ner_input, tagger_ner)\n",
    "    \n",
    "    config = {\n",
    "        \"mode\": \"eval\",\n",
    "        \"model_path\": base_url + \"/ed-wiki-2019/lr_model.pkl\",\n",
    "    }\n",
    "\n",
    "    model = EntityDisambiguation(base_url, wiki_version, config)\n",
    "    preds,_ = model.predict(ner_output)\n",
    "    \n",
    "    for url in preds:\n",
    "        \n",
    "        for mention in preds[url]:\n",
    "            \n",
    "            pred = mention['prediction']\n",
    "            \n",
    "            if pred not in entity_index:\n",
    "                entity_index[pred] = dict({})\n",
    "            \n",
    "            if url not in entity_index[pred]:\n",
    "                entity_index[pred][url] = 0\n",
    "                \n",
    "            entity_index[pred][url] += 1\n",
    "     \n",
    "    state['entities'] = entity_index\n",
    "    \n",
    "        "
   ]
  },
  {
   "cell_type": "code",
   "execution_count": 13,
   "id": "28193e46",
   "metadata": {},
   "outputs": [
    {
     "name": "stderr",
     "output_type": "stream",
     "text": [
      "/home/sam/.local/lib/python3.6/site-packages/sklearn/base.py:315: UserWarning: Trying to unpickle estimator LogisticRegression from version 0.23.1 when using version 0.24.2. This might lead to breaking code or invalid results. Use at your own risk.\n",
      "  UserWarning)\n"
     ]
    },
    {
     "name": "stdout",
     "output_type": "stream",
     "text": [
      "Loading model from given path: ../rel/data/ed-wiki-2019/lr_model.pkl\n"
     ]
    }
   ],
   "source": [
    "ents = get_entities(data['queryData'])"
   ]
  },
  {
   "cell_type": "code",
   "execution_count": 39,
   "id": "e63a88c7",
   "metadata": {},
   "outputs": [
    {
     "data": {
      "text/plain": [
       "[('China', 70),\n",
       " ('Ukraine', 18),\n",
       " ('Russia', 12),\n",
       " ('India', 7),\n",
       " ('United_States', 6),\n",
       " ('Australia', 6),\n",
       " ('Germany', 6),\n",
       " ('Counties_of_China', 6),\n",
       " ('O._J._Simpson', 4),\n",
       " ('California', 3),\n",
       " ('Canada', 3),\n",
       " ('Alan_Blinder', 3),\n",
       " ('Larissa_Anderson', 3),\n",
       " ('Julia_Simon_(biathlete)', 3),\n",
       " ('England', 3),\n",
       " ('Stephen_Sondheim', 3),\n",
       " ('Los_Angeles', 3),\n",
       " ('Guy_Fawkes', 3),\n",
       " ('Onychomycosis', 3),\n",
       " ('Boris_Johnson', 3),\n",
       " ('1996_Summer_Olympics', 2),\n",
       " ('Syria', 2),\n",
       " ('John_Kirby_(admiral)', 2),\n",
       " ('Denmark', 2),\n",
       " ('Hunan', 2),\n",
       " ('Johnson_&amp;_Johnson', 2),\n",
       " ('Shaanxi', 2),\n",
       " (\"Xi'an\", 2),\n",
       " ('John_Beckman', 2),\n",
       " ('Americas', 2),\n",
       " ('Delhi', 1),\n",
       " ('Chandrakant_Lahariya', 1),\n",
       " ('Narendra_Modi', 1),\n",
       " ('Nirmala_Sitharaman', 1),\n",
       " ('Marie_Antoinette', 1),\n",
       " ('Europe', 1),\n",
       " ('Ireland', 1),\n",
       " ('George_Bonanno', 1),\n",
       " ('Tanzania', 1),\n",
       " ('Jen_Psaki', 1),\n",
       " ('Barack_Obama', 1),\n",
       " ('Rakeysh_Omprakash_Mehra', 1),\n",
       " ('Rosedale,_Toronto', 1),\n",
       " ('Korea', 1),\n",
       " ('Japan', 1),\n",
       " ('University_of_Oxford', 1),\n",
       " ('McGill_University', 1),\n",
       " ('University_of_Chicago', 1),\n",
       " ('Daniel_Ek', 1),\n",
       " ('Joni_Mitchell', 1),\n",
       " ('Brené_Brown', 1),\n",
       " ('Sioux_language', 1),\n",
       " ('Closed-circuit_television', 1),\n",
       " ('Marianne_Elliott_(director)', 1),\n",
       " ('Danny_Burstein', 1),\n",
       " ('Nick_Cordero', 1),\n",
       " ('Patti_LuPone', 1),\n",
       " ('David_Leonhardt', 1),\n",
       " ('Nashville,_Tennessee', 1),\n",
       " ('Abbie_Hoffman', 1),\n",
       " ('Frank_McCourt', 1),\n",
       " ('Location_identifier', 1),\n",
       " (\"Barbara_Walters'_10_Most_Fascinating_People\", 1),\n",
       " ('Michael_Mann', 1)]"
      ]
     },
     "execution_count": 39,
     "metadata": {},
     "output_type": "execute_result"
    }
   ],
   "source": [
    "sorted([(ent,sum(ents[ent].values())) for ent in ents], key= lambda a: a[1], reverse=True)"
   ]
  },
  {
   "cell_type": "code",
   "execution_count": 40,
   "id": "d188e2e2",
   "metadata": {},
   "outputs": [],
   "source": [
    "def filter(state, urls, ent, threshold):\n",
    "\n",
    "    urls = list(state['raw'].keys())\n",
    "    \n",
    "    out = [True]*len(urls)\n",
    "    \n",
    "    for i, url in enumerate(urls):\n",
    "        \n",
    "        if state['entities'][ent][url] < threshold:\n",
    "            out[i] = False\n",
    "            \n",
    "    return out\n",
    "    "
   ]
  },
  {
   "cell_type": "code",
   "execution_count": null,
   "id": "1f3c9d72",
   "metadata": {},
   "outputs": [],
   "source": [
    "def topk(state, docs, k=5):\n",
    "    \n",
    "    \n",
    "    top_dict = dict({})\n",
    "    \n",
    "    for ent in state['entities']: \n",
    "    \n",
    "        for doc in docs:\n",
    "\n",
    "            if doc in state['entities'][ent]:\n",
    "                \n",
    "                if ent not in top_dict:\n",
    "                    top_dict[ent] = 0\n",
    "                    \n",
    "                top_dict[ent] += state['entities'][ent][doc]\n",
    "    \n",
    "    return sorted(list(top_dict.values()), key = lambda a: a[1], reverse = True)\n"
   ]
  },
  {
   "cell_type": "code",
   "execution_count": null,
   "id": "cd8901bd",
   "metadata": {},
   "outputs": [],
   "source": [
    "def compute(state):\n",
    "    \n",
    "    "
   ]
  }
 ],
 "metadata": {
  "kernelspec": {
   "display_name": "Python 3",
   "language": "python",
   "name": "python3"
  },
  "language_info": {
   "codemirror_mode": {
    "name": "ipython",
    "version": 3
   },
   "file_extension": ".py",
   "mimetype": "text/x-python",
   "name": "python",
   "nbconvert_exporter": "python",
   "pygments_lexer": "ipython3",
   "version": "3.6.9"
  }
 },
 "nbformat": 4,
 "nbformat_minor": 5
}
